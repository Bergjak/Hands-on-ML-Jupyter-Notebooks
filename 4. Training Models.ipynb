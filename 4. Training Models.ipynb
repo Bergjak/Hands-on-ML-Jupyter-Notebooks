{
 "cells": [
  {
   "cell_type": "code",
   "execution_count": 2,
   "id": "06d5642e",
   "metadata": {},
   "outputs": [],
   "source": [
    "import pandas as pd\n",
    "import matplotlib as mpl\n",
    "import numpy as np\n",
    "import matplotlib.pyplot as plt"
   ]
  },
  {
   "cell_type": "code",
   "execution_count": 2,
   "id": "ce45a572",
   "metadata": {},
   "outputs": [
    {
     "data": {
      "text/plain": [
       "array([[0.0103059 ],\n",
       "       [0.85179026]])"
      ]
     },
     "execution_count": 2,
     "metadata": {},
     "output_type": "execute_result"
    }
   ],
   "source": [
    "np.random.rand(2, 1)"
   ]
  },
  {
   "cell_type": "code",
   "execution_count": 4,
   "id": "e915927a",
   "metadata": {},
   "outputs": [],
   "source": [
    "X = 2*abs(np.random.randn(100, 1))\n",
    "Y = 4 + 3*(X + abs(np.random.randn(100, 1)))"
   ]
  },
  {
   "cell_type": "code",
   "execution_count": 4,
   "id": "6488f1ec",
   "metadata": {},
   "outputs": [
    {
     "data": {
      "text/plain": [
       "[<matplotlib.lines.Line2D at 0x26ed10315b0>]"
      ]
     },
     "execution_count": 4,
     "metadata": {},
     "output_type": "execute_result"
    },
    {
     "data": {
      "image/png": "[encoded data removed]",
      "text/plain": [
       "<Figure size 432x288 with 1 Axes>"
      ]
     },
     "metadata": {
      "needs_background": "light"
     },
     "output_type": "display_data"
    }
   ],
   "source": [
    "plt.plot(X, Y, 'b.')"
   ]
  },
  {
   "cell_type": "code",
   "execution_count": 5,
   "id": "9da316fa",
   "metadata": {},
   "outputs": [
    {
     "data": {
      "text/plain": [
       "array([[1.        , 1.54952128],\n",
       "       [1.        , 1.25069968],\n",
       "       [1.        , 0.90887123],\n",
       "       [1.        , 0.33969431],\n",
       "       [1.        , 1.56508202],\n",
       "       [1.        , 5.13968791],\n",
       "       [1.        , 2.09659627],\n",
       "       [1.        , 4.38477013],\n",
       "       [1.        , 2.20561043],\n",
       "       [1.        , 1.83204114],\n",
       "       [1.        , 0.11841835],\n",
       "       [1.        , 0.07687608],\n",
       "       [1.        , 2.55881595],\n",
       "       [1.        , 1.35186036],\n",
       "       [1.        , 1.44351905],\n",
       "       [1.        , 2.12911953],\n",
       "       [1.        , 0.23158109],\n",
       "       [1.        , 0.31235148],\n",
       "       [1.        , 2.46464097],\n",
       "       [1.        , 2.36767102],\n",
       "       [1.        , 2.50151664],\n",
       "       [1.        , 0.71805476],\n",
       "       [1.        , 0.64385478],\n",
       "       [1.        , 1.1100855 ],\n",
       "       [1.        , 0.98937641],\n",
       "       [1.        , 0.78931285],\n",
       "       [1.        , 3.45961916],\n",
       "       [1.        , 0.73363785],\n",
       "       [1.        , 0.96632989],\n",
       "       [1.        , 1.39758303],\n",
       "       [1.        , 2.02625696],\n",
       "       [1.        , 0.05505798],\n",
       "       [1.        , 1.14410411],\n",
       "       [1.        , 1.73320042],\n",
       "       [1.        , 1.63230347],\n",
       "       [1.        , 3.05038258],\n",
       "       [1.        , 1.05840508],\n",
       "       [1.        , 0.76297342],\n",
       "       [1.        , 0.35345182],\n",
       "       [1.        , 0.34766144],\n",
       "       [1.        , 1.26637086],\n",
       "       [1.        , 2.00853426],\n",
       "       [1.        , 0.622767  ],\n",
       "       [1.        , 0.42644398],\n",
       "       [1.        , 1.15981717],\n",
       "       [1.        , 1.7374976 ],\n",
       "       [1.        , 1.19719877],\n",
       "       [1.        , 2.61263871],\n",
       "       [1.        , 3.39745242],\n",
       "       [1.        , 0.66260717],\n",
       "       [1.        , 1.06327248],\n",
       "       [1.        , 1.22620862],\n",
       "       [1.        , 0.84209153],\n",
       "       [1.        , 0.11893566],\n",
       "       [1.        , 0.4353199 ],\n",
       "       [1.        , 0.57344852],\n",
       "       [1.        , 1.38218312],\n",
       "       [1.        , 0.0089613 ],\n",
       "       [1.        , 0.04624846],\n",
       "       [1.        , 0.97385717],\n",
       "       [1.        , 2.9592274 ],\n",
       "       [1.        , 0.65320534],\n",
       "       [1.        , 1.38854788],\n",
       "       [1.        , 2.57570888],\n",
       "       [1.        , 1.1699167 ],\n",
       "       [1.        , 1.83594189],\n",
       "       [1.        , 4.20024162],\n",
       "       [1.        , 2.52516037],\n",
       "       [1.        , 0.61962506],\n",
       "       [1.        , 2.49170751],\n",
       "       [1.        , 2.4012106 ],\n",
       "       [1.        , 1.4087446 ],\n",
       "       [1.        , 3.7254972 ],\n",
       "       [1.        , 2.70137525],\n",
       "       [1.        , 1.43700997],\n",
       "       [1.        , 0.36519648],\n",
       "       [1.        , 1.29102287],\n",
       "       [1.        , 0.4938831 ],\n",
       "       [1.        , 0.98444224],\n",
       "       [1.        , 2.27366731],\n",
       "       [1.        , 0.66268231],\n",
       "       [1.        , 1.43411183],\n",
       "       [1.        , 3.92329269],\n",
       "       [1.        , 1.48895816],\n",
       "       [1.        , 1.18836764],\n",
       "       [1.        , 0.95482463],\n",
       "       [1.        , 0.35910153],\n",
       "       [1.        , 1.51813064],\n",
       "       [1.        , 1.91759904],\n",
       "       [1.        , 1.55282311],\n",
       "       [1.        , 1.45258269],\n",
       "       [1.        , 1.51271819],\n",
       "       [1.        , 3.48588723],\n",
       "       [1.        , 0.4119469 ],\n",
       "       [1.        , 1.3708163 ],\n",
       "       [1.        , 1.40466102],\n",
       "       [1.        , 5.53868088],\n",
       "       [1.        , 0.45128998],\n",
       "       [1.        , 1.32535954],\n",
       "       [1.        , 2.41975906]])"
      ]
     },
     "execution_count": 5,
     "metadata": {},
     "output_type": "execute_result"
    }
   ],
   "source": [
    "X_b = np.c_[np.ones(X.shape), X]\n",
    "theta_best = np.linalg.inv(X_b.T.dot(X_b)).dot(X_b.T).dot(Y)\n",
    "X_b"
   ]
  },
  {
   "cell_type": "code",
   "execution_count": 6,
   "id": "b28a8dc7",
   "metadata": {},
   "outputs": [
    {
     "name": "stdout",
     "output_type": "stream",
     "text": [
      "[[ 6.44374779]\n",
      " [24.32829848]]\n"
     ]
    },
    {
     "data": {
      "text/plain": [
       "[<matplotlib.lines.Line2D at 0x26ed31571c0>]"
      ]
     },
     "execution_count": 6,
     "metadata": {},
     "output_type": "execute_result"
    },
    {
     "data": {
      "image/png": "[encoded data removed]",
      "text/plain": [
       "<Figure size 432x288 with 1 Axes>"
      ]
     },
     "metadata": {
      "needs_background": "light"
     },
     "output_type": "display_data"
    }
   ],
   "source": [
    "X_new = np.array([[0], [6]])\n",
    "X_new_b = np.c_[np.ones(X_new.shape), X_new]\n",
    "y_predict = X_new_b.dot(theta_best)\n",
    "print(y_predict)\n",
    "plt.plot(X_new, y_predict, \"r-\")\n",
    "plt.plot(X, Y, 'b.')"
   ]
  },
  {
   "cell_type": "markdown",
   "id": "db566f99",
   "metadata": {},
   "source": [
    "# Gradient Descent"
   ]
  },
  {
   "cell_type": "code",
   "execution_count": 9,
   "id": "392e93aa",
   "metadata": {},
   "outputs": [
    {
     "name": "stdout",
     "output_type": "stream",
     "text": [
      "[[-19.48458555]\n",
      " [-36.70283641]]\n",
      "\n",
      "[[-4.32449456]\n",
      " [-4.29379266]]\n",
      "\n",
      "[[-2.14193909]\n",
      " [ 0.12524609]]\n",
      "\n",
      "[[-1.75198613]\n",
      " [ 0.6923634 ]]\n",
      "\n"
     ]
    },
    {
     "data": {
      "text/plain": [
       "array([[3.49956825],\n",
       "       [4.4292678 ]])"
      ]
     },
     "execution_count": 9,
     "metadata": {},
     "output_type": "execute_result"
    }
   ],
   "source": [
    "## Batch Gradient Descent\n",
    "eta = 0.1\n",
    "m = 100\n",
    "n_iterations = 1000\n",
    "theta = np.random.rand(2, 1)  # Random initialization\n",
    "\n",
    "for i in range(n_iterations):\n",
    "    gradient = 2/m * X_b.T.dot(X_b.dot(theta) - Y)\n",
    "    print(gradient)\n",
    "    print()\n",
    "    if i == 3:\n",
    "        break\n",
    "    theta = theta - eta*gradient\n",
    "theta"
   ]
  },
  {
   "cell_type": "code",
   "execution_count": 8,
   "id": "cc4b406e",
   "metadata": {},
   "outputs": [
    {
     "data": {
      "text/plain": [
       "array([[6.4842099 ],\n",
       "       [2.84330311]])"
      ]
     },
     "execution_count": 8,
     "metadata": {},
     "output_type": "execute_result"
    }
   ],
   "source": [
    "## Stochastic Gradient Descent\n",
    "n_epochs = 50\n",
    "m = 100\n",
    "t0, t1 = 5, 50\n",
    "theta = np.random.rand(2, 1)  # Random initialization\n",
    "\n",
    "def learning_schedule(t):\n",
    "    return t0/(t + t1)\n",
    "\n",
    "for epoch in range(n_epochs):\n",
    "    for i in range(m):\n",
    "        ran = np.random.randint(m)\n",
    "        xi = X_b[ran:ran+1]\n",
    "        yi = Y[ran:ran+1]\n",
    "        gradients = 2*xi.T.dot(xi.dot(theta) - yi)\n",
    "        eta = learning_schedule(epoch*m + i)\n",
    "        theta = theta - eta*gradients\n",
    "theta"
   ]
  },
  {
   "cell_type": "markdown",
   "id": "7ede5404",
   "metadata": {},
   "source": [
    "# Learning Curves"
   ]
  },
  {
   "cell_type": "code",
   "execution_count": 9,
   "id": "cf2d6f8a",
   "metadata": {},
   "outputs": [],
   "source": [
    "from sklearn.model_selection import train_test_split\n",
    "from sklearn.metrics import mean_squared_error\n",
    "\n",
    "m = 100\n",
    "X = 3*(np.random.randn(m, 1))\n",
    "y = X**2 + 2*X + 4*abs(np.random.randn(m,1))\n"
   ]
  },
  {
   "cell_type": "code",
   "execution_count": 10,
   "id": "e49a2d51",
   "metadata": {},
   "outputs": [
    {
     "data": {
      "text/plain": [
       "[<matplotlib.lines.Line2D at 0x26edb4a2e50>]"
      ]
     },
     "execution_count": 10,
     "metadata": {},
     "output_type": "execute_result"
    },
    {
     "data": {
      "image/png": "[encoded data removed]",
      "text/plain": [
       "<Figure size 432x288 with 1 Axes>"
      ]
     },
     "metadata": {
      "needs_background": "light"
     },
     "output_type": "display_data"
    }
   ],
   "source": [
    "plt.plot(X, y, \"b.\")"
   ]
  },
  {
   "cell_type": "code",
   "execution_count": 11,
   "id": "287721dc",
   "metadata": {},
   "outputs": [
    {
     "data": {
      "image/png": "[encoded data removed]",
      "text/plain": [
       "<Figure size 432x288 with 1 Axes>"
      ]
     },
     "metadata": {
      "needs_background": "light"
     },
     "output_type": "display_data"
    }
   ],
   "source": [
    "# Trying to fit a linear model to quadratic data\n",
    "from sklearn.linear_model import LinearRegression\n",
    "\n",
    "def plot_learning_curves(model, X, y):\n",
    "    X_train, X_val, y_train, y_val = train_test_split(X, y, test_size=0.2)\n",
    "    train_err, val_err = [], []\n",
    "    \n",
    "    for m in range(1, len(X_train)):\n",
    "        model.fit(X_train[:m], y_train[:m])\n",
    "        y_train_pred = model.predict(X_train[:m])\n",
    "        y_val_pred = model.predict(X_val)\n",
    "        train_err.append(np.sqrt(mean_squared_error(y_train[:m], y_train_pred)))\n",
    "        val_err.append(np.sqrt(mean_squared_error(y_val, y_val_pred)))\n",
    "    \n",
    "    plt.plot(np.sqrt(train_err), \"r:\", label=\"train\")\n",
    "    plt.plot(np.sqrt(val_err), \"b:\", label=\"val\")\n",
    "    plt.legend()\n",
    "plot_learning_curves(LinearRegression(), X, y)"
   ]
  },
  {
   "cell_type": "code",
   "execution_count": 12,
   "id": "d202aca2",
   "metadata": {},
   "outputs": [
    {
     "data": {
      "image/png": "[encoded data removed]",
      "text/plain": [
       "<Figure size 432x288 with 1 Axes>"
      ]
     },
     "metadata": {
      "needs_background": "light"
     },
     "output_type": "display_data"
    }
   ],
   "source": [
    "from sklearn.pipeline import Pipeline\n",
    "from sklearn.preprocessing import PolynomialFeatures\n",
    "\n",
    "pipe = Pipeline([(\"poly\", PolynomialFeatures(degree=2, include_bias=False)), (\"lin_reg\", LinearRegression())])\n",
    "plot_learning_curves(pipe, X, y)"
   ]
  },
  {
   "cell_type": "code",
   "execution_count": 13,
   "id": "cc68a944",
   "metadata": {},
   "outputs": [
    {
     "data": {
      "text/plain": [
       "array([[-6.52204615e+154],\n",
       "       [-5.69704502e+152],\n",
       "       [ 1.94248318e+153]])"
      ]
     },
     "execution_count": 13,
     "metadata": {},
     "output_type": "execute_result"
    }
   ],
   "source": [
    "# Stochastic gradient descent for polynomial\n",
    "\n",
    "X_b = np.c_[np.ones(X.shape), X, X**2]\n",
    "theta = np.random.randn(3, 1)\n",
    "n_epochs = 500\n",
    "eta = 0.05\n",
    "\n",
    "for k in range(n_epochs):\n",
    "    for i in range(m):\n",
    "        random_index = np.random.randint(m)\n",
    "        xi = X_b[random_index: random_index + 1]\n",
    "        yi = y[random_index: random_index + 1]\n",
    "        gradient = 2*xi.T.dot(xi.dot(theta) - yi)\n",
    "        eta = learning_schedule(k*m + i)\n",
    "        theta = theta - eta*gradient\n",
    "theta\n"
   ]
  },
  {
   "cell_type": "code",
   "execution_count": 14,
   "id": "b4573aa7",
   "metadata": {},
   "outputs": [
    {
     "name": "stderr",
     "output_type": "stream",
     "text": [
      "<ipython-input-14-353e19388601>:11: RuntimeWarning: invalid value encountered in subtract\n",
      "  theta = theta - eta*gradients\n"
     ]
    }
   ],
   "source": [
    "# Full Batch gradient descent\n",
    "\n",
    "X_b = np.c_[np.ones(X.shape), X, X**2]\n",
    "theta = np.random.randn(3, 1)\n",
    "n_iterations = 1000\n",
    "eta = 0.01\n",
    "m = 100\n",
    "\n",
    "for i in range(n_iterations):\n",
    "    gradients = 2/m * X_b.T.dot(X_b.dot(theta) - y)\n",
    "    theta = theta - eta*gradients"
   ]
  },
  {
   "cell_type": "code",
   "execution_count": 15,
   "id": "09caf4aa",
   "metadata": {},
   "outputs": [
    {
     "data": {
      "text/plain": [
       "array([[3.07624288],\n",
       "       [2.11982911],\n",
       "       [1.00676355]])"
      ]
     },
     "execution_count": 15,
     "metadata": {},
     "output_type": "execute_result"
    }
   ],
   "source": [
    "theta_best = np.linalg.inv(X_b.T.dot(X_b)).dot(X_b.T).dot(y)\n",
    "theta_best"
   ]
  },
  {
   "cell_type": "code",
   "execution_count": 16,
   "id": "c5b9d3be",
   "metadata": {},
   "outputs": [
    {
     "ename": "NameError",
     "evalue": "name 'x' is not defined",
     "output_type": "error",
     "traceback": [
      "\u001b[1;31m---------------------------------------------------------------------------\u001b[0m",
      "\u001b[1;31mNameError\u001b[0m                                 Traceback (most recent call last)",
      "\u001b[1;32m<ipython-input-16-5a309f0f7a89>\u001b[0m in \u001b[0;36m<module>\u001b[1;34m\u001b[0m\n\u001b[0;32m      1\u001b[0m \u001b[0mplt\u001b[0m\u001b[1;33m.\u001b[0m\u001b[0mplot\u001b[0m\u001b[1;33m(\u001b[0m\u001b[0mX\u001b[0m\u001b[1;33m,\u001b[0m \u001b[0my\u001b[0m\u001b[1;33m,\u001b[0m \u001b[1;34m'b.'\u001b[0m\u001b[1;33m)\u001b[0m\u001b[1;33m\u001b[0m\u001b[1;33m\u001b[0m\u001b[0m\n\u001b[0;32m      2\u001b[0m \u001b[1;33m\u001b[0m\u001b[0m\n\u001b[1;32m----> 3\u001b[1;33m \u001b[0mt\u001b[0m \u001b[1;33m=\u001b[0m \u001b[1;33m[\u001b[0m\u001b[0mtheta_best\u001b[0m\u001b[1;33m[\u001b[0m\u001b[1;36m2\u001b[0m\u001b[1;33m,\u001b[0m \u001b[1;36m0\u001b[0m\u001b[1;33m]\u001b[0m \u001b[1;33m*\u001b[0m \u001b[1;33m(\u001b[0m\u001b[0mi\u001b[0m\u001b[1;33m**\u001b[0m\u001b[1;36m2\u001b[0m\u001b[1;33m)\u001b[0m \u001b[1;33m+\u001b[0m \u001b[0mtheta_best\u001b[0m\u001b[1;33m[\u001b[0m\u001b[1;36m1\u001b[0m\u001b[1;33m,\u001b[0m \u001b[1;36m0\u001b[0m\u001b[1;33m]\u001b[0m \u001b[1;33m*\u001b[0m \u001b[0mi\u001b[0m \u001b[1;33m+\u001b[0m \u001b[0mtheta_best\u001b[0m\u001b[1;33m[\u001b[0m\u001b[1;36m0\u001b[0m\u001b[1;33m,\u001b[0m \u001b[1;36m0\u001b[0m\u001b[1;33m]\u001b[0m \u001b[1;32mfor\u001b[0m \u001b[0mi\u001b[0m \u001b[1;32min\u001b[0m \u001b[0mx\u001b[0m\u001b[1;33m]\u001b[0m\u001b[1;33m\u001b[0m\u001b[1;33m\u001b[0m\u001b[0m\n\u001b[0m\u001b[0;32m      4\u001b[0m \u001b[0mplt\u001b[0m\u001b[1;33m.\u001b[0m\u001b[0mplot\u001b[0m\u001b[1;33m(\u001b[0m\u001b[0mx\u001b[0m\u001b[1;33m,\u001b[0m \u001b[0mt\u001b[0m\u001b[1;33m)\u001b[0m\u001b[1;33m\u001b[0m\u001b[1;33m\u001b[0m\u001b[0m\n",
      "\u001b[1;31mNameError\u001b[0m: name 'x' is not defined"
     ]
    },
    {
     "data": {
      "image/png": "[encoded data removed]",
      "text/plain": [
       "<Figure size 432x288 with 1 Axes>"
      ]
     },
     "metadata": {
      "needs_background": "light"
     },
     "output_type": "display_data"
    }
   ],
   "source": [
    "plt.plot(X, y, 'b.')\n",
    "\n",
    "t = [theta_best[2, 0] * (i**2) + theta_best[1, 0] * i + theta_best[0, 0] for i in x]\n",
    "plt.plot(x, t)"
   ]
  },
  {
   "cell_type": "markdown",
   "id": "de22dd37",
   "metadata": {},
   "source": [
    "# Early Stopping"
   ]
  },
  {
   "cell_type": "code",
   "execution_count": null,
   "id": "b75272ea",
   "metadata": {},
   "outputs": [],
   "source": [
    "from sklearn.pipeline import Pipeline\n",
    "from sklearn.linear_model import SGDRegressor\n",
    "from copy import deepcopy\n",
    "from sklearn.preprocessing import StandardScaler\n",
    "\n",
    "X_train, X_val, y_train, y_val = train_test_split(X, y, test_size=0.2)\n",
    "\n",
    "sgd_reg = SGDRegressor(warm_start=True)\n",
    "best_model = None\n",
    "best_epoch = None\n",
    "best_score = float('inf')\n",
    "n_epochs = 1000\n",
    "pipe = Pipeline([(\"poly\", PolynomialFeatures(degree=90, include_bias=False)), (\"scaler\", StandardScaler())])\n",
    "\n",
    "X_train_scaled = pipe.fit_transform(X_train)\n",
    "X_val_scaled = pipe.transform(X_val)\n",
    "\n",
    "for epoch in range(n_epochs):\n",
    "    sgd_reg.fit(X_train_scaled, y_train.ravel())\n",
    "    X_val_pred = sgd_reg.predict(X_val_scaled)\n",
    "    score = mean_squared_error(X_val_pred, y_val)\n",
    "    \n",
    "    if score < best_score:\n",
    "        best_score = score\n",
    "        best_epoch = epoch\n",
    "        best_model = deepcopy(sgd_reg)\n",
    "        \n",
    "(best_score, best_epoch)\n"
   ]
  },
  {
   "cell_type": "markdown",
   "id": "2ce0f0e2",
   "metadata": {},
   "source": [
    "# Logistic Regression"
   ]
  },
  {
   "cell_type": "code",
   "execution_count": null,
   "id": "4babc556",
   "metadata": {},
   "outputs": [],
   "source": []
  }
 ],
 "metadata": {
  "kernelspec": {
   "display_name": "Python 3",
   "language": "python",
   "name": "python3"
  },
  "language_info": {
   "codemirror_mode": {
    "name": "ipython",
    "version": 3
   },
   "file_extension": ".py",
   "mimetype": "text/x-python",
   "name": "python",
   "nbconvert_exporter": "python",
   "pygments_lexer": "ipython3",
   "version": "3.8.8"
  }
 },
 "nbformat": 4,
 "nbformat_minor": 5
}
