{
 "cells": [
  {
   "cell_type": "code",
   "execution_count": 1,
   "id": "09ed2b6a",
   "metadata": {},
   "outputs": [],
   "source": [
    "import matplotlib.pyplot as plt\n",
    "import pandas as pd\n",
    "import tensorflow as tf\n",
    "import numpy as np\n",
    "from tensorflow import keras"
   ]
  },
  {
   "cell_type": "markdown",
   "id": "39636b6a",
   "metadata": {},
   "source": [
    "When we work with data for deep learning applications, we often have a massive amount of data, such that not all of it can fit in RAM. Therefore, we need to load the data into RAM in chunks. TensorFlow takes care of this for us, and we learn how here. Furthermore, we need to preprocess the data, such as normalizing it so that gradient descent methods will work. But there is not only numerical data to be preprocessed; we also have categorical data--such as words. We can preprocess categorical data into one-hot-vectors or *embeddings* (i.e., dense vectors that are learned from the categorical data, which represents the vectors)."
   ]
  },
  {
   "cell_type": "markdown",
   "id": "27f05ed6",
   "metadata": {},
   "source": [
    "# The Data API:\n",
    "Our first stop is the data API. The central object that is dealt with by the data API is datasets, unsurprisingly.\n",
    "https://www.tensorflow.org/api_docs/python/tf/data/Dataset"
   ]
  },
  {
   "cell_type": "code",
   "execution_count": 128,
   "id": "2b4b15ef",
   "metadata": {},
   "outputs": [
    {
     "data": {
      "text/plain": [
       "<TensorSliceDataset shapes: (), types: tf.float32>"
      ]
     },
     "execution_count": 128,
     "metadata": {},
     "output_type": "execute_result"
    }
   ],
   "source": [
    "dataset = tf.data.Dataset.from_tensor_slices(tf.Variable(range(10), dtype='float32'))\n",
    "dataset"
   ]
  },
  {
   "cell_type": "code",
   "execution_count": 129,
   "id": "c2f5d600",
   "metadata": {},
   "outputs": [
    {
     "name": "stdout",
     "output_type": "stream",
     "text": [
      "tf.Tensor(0.0, shape=(), dtype=float32)\n",
      "tf.Tensor(1.0, shape=(), dtype=float32)\n",
      "tf.Tensor(2.0, shape=(), dtype=float32)\n",
      "tf.Tensor(3.0, shape=(), dtype=float32)\n",
      "tf.Tensor(4.0, shape=(), dtype=float32)\n",
      "tf.Tensor(5.0, shape=(), dtype=float32)\n",
      "tf.Tensor(6.0, shape=(), dtype=float32)\n",
      "tf.Tensor(7.0, shape=(), dtype=float32)\n",
      "tf.Tensor(8.0, shape=(), dtype=float32)\n",
      "tf.Tensor(9.0, shape=(), dtype=float32)\n"
     ]
    }
   ],
   "source": [
    "for i in dataset:\n",
    "    print(i)"
   ]
  },
  {
   "cell_type": "code",
   "execution_count": 131,
   "id": "64738da2",
   "metadata": {},
   "outputs": [
    {
     "name": "stdout",
     "output_type": "stream",
     "text": [
      "tf.Tensor([3. 6. 2. 8. 6. 1. 0. 5. 9. 3. 0. 6. 7. 1. 1. 8. 4. 9.], shape=(18,), dtype=float32)\n",
      "tf.Tensor([1. 8. 9. 5. 1. 0. 0. 9. 8. 5. 9. 3. 4. 1. 3. 6. 0. 1.], shape=(18,), dtype=float32)\n",
      "tf.Tensor([2. 6. 5. 2. 4. 8. 7. 9. 8. 6. 4. 0. 5. 0. 7. 0. 5. 7.], shape=(18,), dtype=float32)\n",
      "tf.Tensor([6. 0. 0. 7. 3. 4. 7. 6. 5. 4. 4. 6. 2. 8. 8. 9. 4. 1.], shape=(18,), dtype=float32)\n",
      "tf.Tensor([7. 2. 7. 7. 3. 6. 2. 6. 4. 3. 8. 5. 8. 2. 2. 9. 7. 3.], shape=(18,), dtype=float32)\n",
      "tf.Tensor([5. 1. 9. 1. 7. 2. 6. 9. 8. 3. 3. 5. 5. 7. 4. 1. 3. 2.], shape=(18,), dtype=float32)\n",
      "tf.Tensor([5. 9. 0. 4. 4. 0. 1. 2. 8. 9. 2. 3.], shape=(12,), dtype=float32)\n",
      "\n",
      "tf.Tensor([0. 6. 8. 1. 2. 2. 0. 4. 0. 1. 9. 3. 1. 8. 3. 0. 9. 6.], shape=(18,), dtype=float32)\n",
      "tf.Tensor([5. 7. 2. 3. 4. 0. 3. 8. 5. 5. 0. 7. 5. 1. 4. 8. 0. 6.], shape=(18,), dtype=float32)\n",
      "tf.Tensor([9. 2. 3. 4. 1. 6. 0. 5. 6. 9. 8. 1. 4. 2. 8. 4. 9. 5.], shape=(18,), dtype=float32)\n",
      "tf.Tensor([2. 4. 9. 1. 4. 1. 4. 6. 8. 3. 8. 9. 1. 2. 0. 0. 7. 7.], shape=(18,), dtype=float32)\n",
      "tf.Tensor([4. 7. 8. 5. 7. 8. 1. 7. 7. 9. 9. 3. 3. 7. 8. 2. 3. 7.], shape=(18,), dtype=float32)\n",
      "tf.Tensor([6. 2. 7. 5. 3. 0. 2. 5. 3. 6. 7. 9. 5. 9. 5. 6. 8. 3.], shape=(18,), dtype=float32)\n"
     ]
    }
   ],
   "source": [
    "lol = dataset.repeat(12).shuffle(120).batch(18)\n",
    "for i in lol:\n",
    "    print(i)\n",
    "print()\n",
    "\n",
    "lol = dataset.repeat(12).shuffle(120).batch(18, drop_remainder=True)\n",
    "for i in lol:\n",
    "    print(i)"
   ]
  },
  {
   "cell_type": "code",
   "execution_count": 132,
   "id": "93438c12",
   "metadata": {},
   "outputs": [],
   "source": [
    "dataset = dataset.batch(len(dataset))"
   ]
  },
  {
   "cell_type": "code",
   "execution_count": 133,
   "id": "3cefeccf",
   "metadata": {},
   "outputs": [],
   "source": [
    "dataset = dataset.map(lambda x: x**2)"
   ]
  },
  {
   "cell_type": "code",
   "execution_count": 134,
   "id": "e773714a",
   "metadata": {},
   "outputs": [
    {
     "name": "stdout",
     "output_type": "stream",
     "text": [
      "tf.Tensor([ 0.  1.  4.  9. 16. 25. 36. 49. 64. 81.], shape=(10,), dtype=float32)\n"
     ]
    }
   ],
   "source": [
    "for i in dataset: print(i)"
   ]
  },
  {
   "cell_type": "code",
   "execution_count": 135,
   "id": "41be9094",
   "metadata": {},
   "outputs": [],
   "source": [
    "mean = sum(j for j in i for i in dataset)\n",
    "mean = tf.cast(mean, dtype='float32')\n",
    "mean = mean / 10"
   ]
  },
  {
   "cell_type": "code",
   "execution_count": 136,
   "id": "ed680b7a",
   "metadata": {},
   "outputs": [],
   "source": [
    "# Normalizing the dataset\n",
    "sums = sum((j - mean)**2 for j in i for i in dataset)\n",
    "sums = tf.cast(sums, dtype='float32')\n",
    "std_dev = tf.sqrt(1/(10 - 1) * sums)\n",
    "\n",
    "dataset = dataset.map(lambda x: (x - mean)/std_dev)"
   ]
  },
  {
   "cell_type": "code",
   "execution_count": 137,
   "id": "f0507f5a",
   "metadata": {},
   "outputs": [
    {
     "name": "stdout",
     "output_type": "stream",
     "text": [
      "tf.Tensor(\n",
      "[-1.0068933  -0.97156364 -0.8655749  -0.68892694 -0.44161984 -0.12365355\n",
      "  0.2649719   0.7242565   1.2542003   1.8548033 ], shape=(10,), dtype=float32)\n"
     ]
    }
   ],
   "source": [
    "for i in dataset: print(i)"
   ]
  },
  {
   "cell_type": "code",
   "execution_count": 145,
   "id": "942ba751",
   "metadata": {},
   "outputs": [],
   "source": [
    "points = np.array([i for i in dataset])"
   ]
  },
  {
   "cell_type": "code",
   "execution_count": 146,
   "id": "bb8036bd",
   "metadata": {},
   "outputs": [],
   "source": [
    "points = points[0]"
   ]
  },
  {
   "cell_type": "code",
   "execution_count": 148,
   "id": "ee25ebc3",
   "metadata": {},
   "outputs": [
    {
     "data": {
      "text/plain": [
       "[<matplotlib.lines.Line2D at 0x211953f28e0>]"
      ]
     },
     "execution_count": 148,
     "metadata": {},
     "output_type": "execute_result"
    },
    {
     "data": {
      "image/png": "[encoded data removed]",
      "text/plain": [
       "<Figure size 432x288 with 1 Axes>"
      ]
     },
     "metadata": {
      "needs_background": "light"
     },
     "output_type": "display_data"
    }
   ],
   "source": [
    "plt.plot(points)"
   ]
  },
  {
   "cell_type": "code",
   "execution_count": 150,
   "id": "db8ba58d",
   "metadata": {},
   "outputs": [
    {
     "data": {
      "text/plain": [
       "[<matplotlib.lines.Line2D at 0x21196483130>]"
      ]
     },
     "execution_count": 150,
     "metadata": {},
     "output_type": "execute_result"
    },
    {
     "data": {
      "image/png": "[encoded data removed]",
      "text/plain": [
       "<Figure size 432x288 with 1 Axes>"
      ]
     },
     "metadata": {
      "needs_background": "light"
     },
     "output_type": "display_data"
    }
   ],
   "source": [
    "plt.plot([x**2 for x in range(10)])"
   ]
  },
  {
   "cell_type": "markdown",
   "id": "d21297d5",
   "metadata": {},
   "source": [
    "#### Shuffling:\n",
    "For performing gradient descent, it is important that our data is independent and identically distributed (IID). If not, the model will learn spurious structure from the data. Thus, if we do not have too much data, we can achieve IID by using the shuffle function from TensorFlow. The shuffle function requires us to specify how much items it will shuffle at each iteration. This is the buffer_size argument. So, for example, if the buffer_size is set to 14, then the first fourteen items will be selected from the dataset. Then, once some data is taken out of the buffer for training (or whatever), a random datum will be returned from the buffer and the buffer will grab a random datum from the dataset. This continues until the entire dataset has been iterated over. The max possible buffer size is determined by how much RAM we have at our disposal. Therefore, if we have a very large dataset and not enough RAM, shuffling may not suffice. This is because the buffer won't be able to hold onto enough data to ensure IID, and so spurious patterns in the data may be learned by chance of the buffer holding onto spuriously patterned data.\n",
    "\n",
    "The solution to this is to shuffle the entire dataset by putting the dataset into separate files that are small enough to be shuffled multiple times and then randomly selection from which file you draw data from. However, TensorFlow implements this solution, so doing this is rather easy with TensorFLow."
   ]
  },
  {
   "cell_type": "code",
   "execution_count": 152,
   "id": "e6f57365",
   "metadata": {},
   "outputs": [],
   "source": [
    "# Shuffling example:\n",
    "nums = tf.data.Dataset.from_tensor_slices(tf.Variable(range(10), dtype='float32'))"
   ]
  },
  {
   "cell_type": "code",
   "execution_count": 171,
   "id": "d41ee1cd",
   "metadata": {},
   "outputs": [
    {
     "name": "stdout",
     "output_type": "stream",
     "text": [
      "tf.Tensor(1.0, shape=(), dtype=float32)\n",
      "tf.Tensor(5.0, shape=(), dtype=float32)\n",
      "tf.Tensor(4.0, shape=(), dtype=float32)\n",
      "tf.Tensor(6.0, shape=(), dtype=float32)\n",
      "tf.Tensor(3.0, shape=(), dtype=float32)\n",
      "tf.Tensor(2.0, shape=(), dtype=float32)\n",
      "tf.Tensor(7.0, shape=(), dtype=float32)\n",
      "tf.Tensor(0.0, shape=(), dtype=float32)\n",
      "tf.Tensor(8.0, shape=(), dtype=float32)\n",
      "tf.Tensor(9.0, shape=(), dtype=float32)\n"
     ]
    }
   ],
   "source": [
    "nums = nums.shuffle(2)\n",
    "for i in nums: print(i)"
   ]
  },
  {
   "cell_type": "markdown",
   "id": "a5661788",
   "metadata": {},
   "source": [
    "### Loading data with interleaving:\n",
    "So, if we have a dataset that is too large to be loaded in at once, then we can partition the dataset into smaller subsets. We either shuffle the original dataset before doing this or shuffle the subsets once they are made. For example, I will use the California Housing dataset. I begin by partitioning the set into subsets, which is done by simply using Excel; you can use F5 in excel to control which cells you have selected, which makes partitioning the dataset into subsets fast. Then, I shuffle the subsets. Next, I set the datasets up so that TensorFlow can draw from each subset, hence the name interleaving. This promotes the IID status of the data, enhancing the generalizability of the model obtained from training on the data.\n",
    "\n",
    "Actually, as you can see below, it is far better to automate the creation of the subsets."
   ]
  },
  {
   "cell_type": "code",
   "execution_count": 6,
   "id": "1ee51008",
   "metadata": {},
   "outputs": [],
   "source": [
    "from sklearn.datasets import fetch_california_housing"
   ]
  },
  {
   "cell_type": "code",
   "execution_count": 7,
   "id": "17add24a",
   "metadata": {},
   "outputs": [],
   "source": [
    "housing = fetch_california_housing()"
   ]
  },
  {
   "cell_type": "code",
   "execution_count": 66,
   "id": "737e9b2f",
   "metadata": {},
   "outputs": [],
   "source": [
    "df_dict = {housing.feature_names[i]: housing.data[:, i] for i in range(len(housing.feature_names))}\n",
    "df_dict['targets'] = housing.target"
   ]
  },
  {
   "cell_type": "code",
   "execution_count": 67,
   "id": "93d88e7d",
   "metadata": {},
   "outputs": [],
   "source": [
    "housing_data = pd.DataFrame(df_dict)"
   ]
  },
  {
   "cell_type": "code",
   "execution_count": 121,
   "id": "95431ed7",
   "metadata": {},
   "outputs": [
    {
     "data": {
      "text/html": [
       "<div>\n",
       "<style scoped>\n",
       "    .dataframe tbody tr th:only-of-type {\n",
       "        vertical-align: middle;\n",
       "    }\n",
       "\n",
       "    .dataframe tbody tr th {\n",
       "        vertical-align: top;\n",
       "    }\n",
       "\n",
       "    .dataframe thead th {\n",
       "        text-align: right;\n",
       "    }\n",
       "</style>\n",
       "<table border=\"1\" class=\"dataframe\">\n",
       "  <thead>\n",
       "    <tr style=\"text-align: right;\">\n",
       "      <th></th>\n",
       "      <th>MedInc</th>\n",
       "      <th>HouseAge</th>\n",
       "      <th>AveRooms</th>\n",
       "      <th>AveBedrms</th>\n",
       "      <th>Population</th>\n",
       "      <th>AveOccup</th>\n",
       "      <th>Latitude</th>\n",
       "      <th>Longitude</th>\n",
       "      <th>targets</th>\n",
       "    </tr>\n",
       "  </thead>\n",
       "  <tbody>\n",
       "    <tr>\n",
       "      <th>11307</th>\n",
       "      <td>3.0125</td>\n",
       "      <td>40.0</td>\n",
       "      <td>4.271429</td>\n",
       "      <td>0.971429</td>\n",
       "      <td>163.0</td>\n",
       "      <td>2.328571</td>\n",
       "      <td>33.78</td>\n",
       "      <td>-117.94</td>\n",
       "      <td>1.661</td>\n",
       "    </tr>\n",
       "    <tr>\n",
       "      <th>12369</th>\n",
       "      <td>6.1437</td>\n",
       "      <td>17.0</td>\n",
       "      <td>9.252155</td>\n",
       "      <td>1.534483</td>\n",
       "      <td>1091.0</td>\n",
       "      <td>2.351293</td>\n",
       "      <td>33.78</td>\n",
       "      <td>-116.43</td>\n",
       "      <td>2.321</td>\n",
       "    </tr>\n",
       "    <tr>\n",
       "      <th>14823</th>\n",
       "      <td>1.4844</td>\n",
       "      <td>52.0</td>\n",
       "      <td>3.943662</td>\n",
       "      <td>1.000000</td>\n",
       "      <td>217.0</td>\n",
       "      <td>3.056338</td>\n",
       "      <td>32.67</td>\n",
       "      <td>-117.11</td>\n",
       "      <td>0.833</td>\n",
       "    </tr>\n",
       "    <tr>\n",
       "      <th>7352</th>\n",
       "      <td>3.0938</td>\n",
       "      <td>31.0</td>\n",
       "      <td>3.667656</td>\n",
       "      <td>0.976261</td>\n",
       "      <td>1486.0</td>\n",
       "      <td>4.409496</td>\n",
       "      <td>33.98</td>\n",
       "      <td>-118.17</td>\n",
       "      <td>1.554</td>\n",
       "    </tr>\n",
       "    <tr>\n",
       "      <th>701</th>\n",
       "      <td>6.0574</td>\n",
       "      <td>32.0</td>\n",
       "      <td>7.502924</td>\n",
       "      <td>1.134503</td>\n",
       "      <td>485.0</td>\n",
       "      <td>2.836257</td>\n",
       "      <td>37.64</td>\n",
       "      <td>-121.97</td>\n",
       "      <td>4.310</td>\n",
       "    </tr>\n",
       "    <tr>\n",
       "      <th>...</th>\n",
       "      <td>...</td>\n",
       "      <td>...</td>\n",
       "      <td>...</td>\n",
       "      <td>...</td>\n",
       "      <td>...</td>\n",
       "      <td>...</td>\n",
       "      <td>...</td>\n",
       "      <td>...</td>\n",
       "      <td>...</td>\n",
       "    </tr>\n",
       "    <tr>\n",
       "      <th>11380</th>\n",
       "      <td>5.5312</td>\n",
       "      <td>27.0</td>\n",
       "      <td>5.623377</td>\n",
       "      <td>0.983766</td>\n",
       "      <td>1115.0</td>\n",
       "      <td>3.620130</td>\n",
       "      <td>33.68</td>\n",
       "      <td>-117.95</td>\n",
       "      <td>2.392</td>\n",
       "    </tr>\n",
       "    <tr>\n",
       "      <th>15802</th>\n",
       "      <td>4.3232</td>\n",
       "      <td>28.0</td>\n",
       "      <td>3.732021</td>\n",
       "      <td>1.045420</td>\n",
       "      <td>2232.0</td>\n",
       "      <td>1.689629</td>\n",
       "      <td>37.75</td>\n",
       "      <td>-122.44</td>\n",
       "      <td>3.162</td>\n",
       "    </tr>\n",
       "    <tr>\n",
       "      <th>3841</th>\n",
       "      <td>2.8910</td>\n",
       "      <td>11.0</td>\n",
       "      <td>3.764323</td>\n",
       "      <td>1.238281</td>\n",
       "      <td>2166.0</td>\n",
       "      <td>2.820312</td>\n",
       "      <td>34.19</td>\n",
       "      <td>-118.44</td>\n",
       "      <td>1.781</td>\n",
       "    </tr>\n",
       "    <tr>\n",
       "      <th>6976</th>\n",
       "      <td>3.6475</td>\n",
       "      <td>47.0</td>\n",
       "      <td>4.970530</td>\n",
       "      <td>1.110020</td>\n",
       "      <td>1262.0</td>\n",
       "      <td>2.479371</td>\n",
       "      <td>33.99</td>\n",
       "      <td>-118.04</td>\n",
       "      <td>1.971</td>\n",
       "    </tr>\n",
       "    <tr>\n",
       "      <th>19761</th>\n",
       "      <td>1.7708</td>\n",
       "      <td>24.0</td>\n",
       "      <td>4.897898</td>\n",
       "      <td>1.021021</td>\n",
       "      <td>1042.0</td>\n",
       "      <td>3.129129</td>\n",
       "      <td>40.11</td>\n",
       "      <td>-122.17</td>\n",
       "      <td>0.590</td>\n",
       "    </tr>\n",
       "  </tbody>\n",
       "</table>\n",
       "<p>20640 rows × 9 columns</p>\n",
       "</div>"
      ],
      "text/plain": [
       "       MedInc  HouseAge  AveRooms  AveBedrms  Population  AveOccup  Latitude  \\\n",
       "11307  3.0125      40.0  4.271429   0.971429       163.0  2.328571     33.78   \n",
       "12369  6.1437      17.0  9.252155   1.534483      1091.0  2.351293     33.78   \n",
       "14823  1.4844      52.0  3.943662   1.000000       217.0  3.056338     32.67   \n",
       "7352   3.0938      31.0  3.667656   0.976261      1486.0  4.409496     33.98   \n",
       "701    6.0574      32.0  7.502924   1.134503       485.0  2.836257     37.64   \n",
       "...       ...       ...       ...        ...         ...       ...       ...   \n",
       "11380  5.5312      27.0  5.623377   0.983766      1115.0  3.620130     33.68   \n",
       "15802  4.3232      28.0  3.732021   1.045420      2232.0  1.689629     37.75   \n",
       "3841   2.8910      11.0  3.764323   1.238281      2166.0  2.820312     34.19   \n",
       "6976   3.6475      47.0  4.970530   1.110020      1262.0  2.479371     33.99   \n",
       "19761  1.7708      24.0  4.897898   1.021021      1042.0  3.129129     40.11   \n",
       "\n",
       "       Longitude  targets  \n",
       "11307    -117.94    1.661  \n",
       "12369    -116.43    2.321  \n",
       "14823    -117.11    0.833  \n",
       "7352     -118.17    1.554  \n",
       "701      -121.97    4.310  \n",
       "...          ...      ...  \n",
       "11380    -117.95    2.392  \n",
       "15802    -122.44    3.162  \n",
       "3841     -118.44    1.781  \n",
       "6976     -118.04    1.971  \n",
       "19761    -122.17    0.590  \n",
       "\n",
       "[20640 rows x 9 columns]"
      ]
     },
     "execution_count": 121,
     "metadata": {},
     "output_type": "execute_result"
    }
   ],
   "source": [
    "housing_data"
   ]
  },
  {
   "cell_type": "code",
   "execution_count": 81,
   "id": "87777ecb",
   "metadata": {},
   "outputs": [],
   "source": [
    "from sklearn.utils import shuffle\n",
    "housing_data = shuffle(housing_data)"
   ]
  },
  {
   "cell_type": "code",
   "execution_count": 82,
   "id": "08c52e1e",
   "metadata": {},
   "outputs": [],
   "source": [
    "housing_data.to_csv('datasets/ch_13_interleaving/full_housing_data.csv', index=False)"
   ]
  },
  {
   "cell_type": "code",
   "execution_count": 143,
   "id": "e9bf129e",
   "metadata": {},
   "outputs": [],
   "source": [
    "from sklearn.model_selection import train_test_split\n",
    "\n",
    "X_train, X_test, y_train, y_test = train_test_split(housing_data[housing_data.columns[:-1]], housing_data['targets'], test_size=0.2)"
   ]
  },
  {
   "cell_type": "code",
   "execution_count": 144,
   "id": "8f734cd8",
   "metadata": {},
   "outputs": [],
   "source": [
    "X_test, X_valid, y_test, y_valid = train_test_split(X_test, y_test, test_size=0.5)"
   ]
  },
  {
   "cell_type": "code",
   "execution_count": 147,
   "id": "b9484988",
   "metadata": {},
   "outputs": [],
   "source": [
    "X_valid['targets'] = y_valid\n",
    "X_train['targets'] = y_train\n",
    "X_test['targets'] = y_test"
   ]
  },
  {
   "cell_type": "code",
   "execution_count": 152,
   "id": "c2f430b4",
   "metadata": {},
   "outputs": [
    {
     "name": "stdout",
     "output_type": "stream",
     "text": [
      "train: 16512, valid: 2064, test: (2064, 9)\n"
     ]
    }
   ],
   "source": [
    "print('train: ' + str(len(X_train)) + ', valid: ' + str(len(X_valid)) + ', test: ' + str(X_test.shape))"
   ]
  },
  {
   "cell_type": "code",
   "execution_count": 155,
   "id": "0fa98c06",
   "metadata": {},
   "outputs": [],
   "source": [
    "# Automating parsing the full dataset into shuffled subsets of equal size\n",
    "train_subset_size = len(X_train)//24\n",
    "valid_subset_size = len(X_valid)//8\n",
    "test_subset_size = len(X_test)//8\n",
    "\n",
    "for i in range(24):\n",
    "    X_train[i*train_subset_size: (1+i)*train_subset_size - 1].to_csv(\"datasets/ch_13_interleaving/train/train_housing_data_\"+str(i+1)+\".csv\", index=False)\n",
    "for i in range(8):\n",
    "    X_valid[i*valid_subset_size: (1+i)*valid_subset_size - 1].to_csv(\"datasets/ch_13_interleaving/valid/valid_housing_data_\"+str(i+1)+\".csv\", index=False)\n",
    "for i in range(8):\n",
    "    X_test[i*test_subset_size: (1+i)*test_subset_size - 1].to_csv(\"datasets/ch_13_interleaving/test/test_housing_data_\"+str(i+1)+\".csv\", index=False)"
   ]
  },
  {
   "cell_type": "markdown",
   "id": "5efbe92f",
   "metadata": {},
   "source": [
    "Now, I have saved the dataset as shuffled subsets. Therefore, I am now ready to set up the filepaths."
   ]
  },
  {
   "cell_type": "code",
   "execution_count": 157,
   "id": "1d952ea3",
   "metadata": {},
   "outputs": [],
   "source": [
    "train_filepaths = [\"datasets/ch_13_interleaving/train/train_housing_data_\"+str(i+1)+\".csv\" for i in range(24)]\n",
    "valid_filepaths = [\"datasets/ch_13_interleaving/valid/valid_housing_data_\"+str(i+1)+\".csv\" for i in range(8)]\n",
    "test_filepaths = [\"datasets/ch_13_interleaving/test/test_housing_data_\"+str(i+1)+\".csv\" for i in range(8)]"
   ]
  },
  {
   "cell_type": "code",
   "execution_count": 92,
   "id": "d0a9bd60",
   "metadata": {},
   "outputs": [],
   "source": [
    "filepath_dataset = tf.data.Dataset.list_files(train_filepaths, seed=42)\n",
    "# The seed is for the shuffler, i.e., the list_files command shuffles the file paths"
   ]
  },
  {
   "cell_type": "code",
   "execution_count": 93,
   "id": "79f94cb3",
   "metadata": {},
   "outputs": [],
   "source": [
    "n_readers = 5\n",
    "dataset = filepath_dataset.interleave(lambda filepath: tf.data.TextLineDataset(filepath).skip(1), cycle_length=n_readers)"
   ]
  },
  {
   "cell_type": "markdown",
   "id": "a89d42c5",
   "metadata": {},
   "source": [
    "We use the .skip(1) function to skip the first line of each data subset, which is simply the data headings. So, if you removed the headings manually, then you would not need to do the skip command. Since we specifield the cycle_length to two, the interlieve function will process two of our data subsets at once, i.e., two of our data subsets will be interleaved. Then, once we have drawn all the entries from these two interleaved datasets, the interleave command will grab the next two (unused) datasubsets. So, the cycle_length argument determines how many of the filepath data subsets are used to be interleaved into a larger subset of the dataset.\n",
    "\n",
    "**Tip:** for interleaving to work best, it's best for the interleaved datasets to be of equal length; if not, then the ends of the longer datasets will be chopped and so unused."
   ]
  },
  {
   "cell_type": "code",
   "execution_count": 94,
   "id": "03857558",
   "metadata": {},
   "outputs": [
    {
     "name": "stdout",
     "output_type": "stream",
     "text": [
      "b'4.7813,17.0,7.31767955801105,1.0662983425414365,1057.0,2.9198895027624308,34.9,-120.37,3.268'\n",
      "b'4.575,48.0,4.441108545034642,0.9422632794457275,1142.0,2.6374133949191685,34.0,-118.45,3.267'\n",
      "b'2.4744,17.0,6.225854383358098,1.4056463595839523,1802.0,2.677563150074294,33.33,-116.74,1.582'\n",
      "b'4.5833,37.0,4.896551724137931,0.9862068965517241,886.0,3.0551724137931036,33.87,-118.35,2.613'\n",
      "b'4.0526,44.0,5.724919093851133,1.0744336569579287,828.0,2.679611650485437,37.94,-122.33,1.508'\n"
     ]
    }
   ],
   "source": [
    "for i in dataset.take(5): print(i.numpy())"
   ]
  },
  {
   "cell_type": "markdown",
   "id": "cb34fc65",
   "metadata": {},
   "source": [
    "### Preprocessing the Data:\n",
    "We need to parse the byte strings which constitute the data into usable segments. And we need to scale the data."
   ]
  },
  {
   "cell_type": "code",
   "execution_count": 108,
   "id": "b0e35204",
   "metadata": {},
   "outputs": [],
   "source": [
    "X_mean, X_std = [np.mean(housing_data[i]) for i in housing_data.columns[:-1]], [np.std(housing_data[i]) for i in housing_data.columns[:-1]]\n",
    "n_inputs = 8"
   ]
  },
  {
   "cell_type": "code",
   "execution_count": 109,
   "id": "12cf1203",
   "metadata": {},
   "outputs": [],
   "source": [
    "def preprocess(line):\n",
    "    # defs == default values. These instruct the decode_csv function to default missing entries to the respective entry of defs.\n",
    "    # So, for the eight columns, we defaul to a zero float. For the targets, we default to a tensor, and since we did not specify\n",
    "    # a value, an error will be raised if we are missing target entries.\n",
    "    defs = [0.] * n_inputs + [tf.constant([], dtype=tf.float32)]\n",
    "    # the fields is a tensor of the csvs obtained from the filepath lines\n",
    "    fields = tf.io.decode_csv(line, record_defaults=defs)\n",
    "    # tf.stack is used to take the tensors in fields and squashing them down to a 1D tensor\n",
    "    x = tf.stack(fields[:-1])\n",
    "    y = tf.stack(fields[-1:])\n",
    "    return (x - X_mean) / X_std, y"
   ]
  },
  {
   "cell_type": "code",
   "execution_count": 110,
   "id": "9410136e",
   "metadata": {},
   "outputs": [
    {
     "data": {
      "text/plain": [
       "(<tf.Tensor: shape=(8,), dtype=float32, numpy=\n",
       " array([ 0.09576334,  1.2205169 ,  0.11960626, -0.0469329 , -0.5276037 ,\n",
       "        -0.03765175,  1.0806382 , -1.3777503 ], dtype=float32)>,\n",
       " <tf.Tensor: shape=(1,), dtype=float32, numpy=array([1.508], dtype=float32)>)"
      ]
     },
     "execution_count": 110,
     "metadata": {},
     "output_type": "execute_result"
    }
   ],
   "source": [
    "preprocess(b'4.0526,44.0,5.724919093851133,1.0744336569579287,828.0,2.679611650485437,37.94,-122.33,1.508')"
   ]
  },
  {
   "cell_type": "markdown",
   "id": "1e492d6d",
   "metadata": {},
   "source": [
    "### Automating loading, interleaving, and preprocessing with a single function:"
   ]
  },
  {
   "cell_type": "code",
   "execution_count": 111,
   "id": "f30a6b00",
   "metadata": {},
   "outputs": [],
   "source": [
    "def csv_reader_dataset(filepaths, repeat=1, n_readers=5, n_read_threads=None,\n",
    "                       shuffle_buffer_size=10000, n_parse_threads=5, batch_size=32):\n",
    "    dataset = tf.data.Dataset.list_files(filepaths)\n",
    "    dataset = dataset.interleave(lambda filepath: tf.data.TextLineDataset(filepath).skip(1),\n",
    "                                 cycle_length=n_readers, num_parallel_calls=n_read_threads)\n",
    "    dataset = dataset.shuffle(shuffle_buffer_size).repeat(repeat)\n",
    "    dataset = dataset.map(preprocess, num_parallel_calls=n_parse_threads)\n",
    "    return dataset.batch(batch_size).prefetch(1)"
   ]
  },
  {
   "cell_type": "markdown",
   "id": "0c325b01",
   "metadata": {},
   "source": [
    "The prefetch function, applied to the last line of the above cell, instructs the cpu to prepare to grab the next batch before it has even been requested, which can drastically speed up training, since we will rarely have to wait for the data to load in for training, since the next batch is being loaded in during the previous training session."
   ]
  },
  {
   "cell_type": "code",
   "execution_count": 112,
   "id": "594bc4fc",
   "metadata": {},
   "outputs": [],
   "source": [
    "my_data = csv_reader_dataset(train_filepaths)"
   ]
  },
  {
   "cell_type": "code",
   "execution_count": 116,
   "id": "8e1c3821",
   "metadata": {},
   "outputs": [
    {
     "name": "stdout",
     "output_type": "stream",
     "text": [
      "(<tf.Tensor: shape=(32, 8), dtype=float32, numpy=\n",
      "array([[ 4.21780869e-02, -1.79889011e+00,  1.79534465e-01,\n",
      "         3.04621775e-02,  1.39921832e+00,  5.43637089e-02,\n",
      "        -8.48289847e-01,  1.55214822e+00],\n",
      "       [ 1.52582693e+00, -1.56051588e+00,  9.08073246e-01,\n",
      "        -1.62522048e-01, -2.26482540e-01, -1.91048719e-02,\n",
      "        -3.52011472e-01, -4.34393585e-01],\n",
      "       [ 3.45582455e-01, -8.45393121e-01,  3.09332311e-01,\n",
      "         9.08690915e-02,  2.51876023e-02,  1.00153591e-02,\n",
      "         5.51588714e-01, -1.05830693e+00],\n",
      "       [-6.65800214e-01,  9.02684569e-01, -6.23773217e-01,\n",
      "        -3.84869546e-01, -5.65574944e-01,  1.36249468e-01,\n",
      "         8.23135972e-01, -5.69157183e-01],\n",
      "       [-4.90726858e-01,  7.43768454e-01, -4.55572575e-01,\n",
      "        -1.56296447e-01, -1.24931432e-01, -1.31256968e-01,\n",
      "        -8.71698856e-01,  7.03623772e-01],\n",
      "       [ 9.59212184e-02,  3.46478045e-01, -5.66062510e-01,\n",
      "        -3.40667218e-01,  1.28504813e-01,  9.62172672e-02,\n",
      "        -7.07834244e-01,  8.33398819e-01],\n",
      "       [ 3.55648756e+00,  5.84852278e-01,  1.19848633e+00,\n",
      "        -1.95243388e-01, -6.82137966e-01, -3.47697549e-02,\n",
      "         1.08063817e+00, -1.49254823e+00],\n",
      "       [-1.12674940e+00, -1.71943200e+00, -8.97534430e-01,\n",
      "        -1.15392685e-01,  4.11964864e-01, -1.23435790e-02,\n",
      "        -6.93787456e-01,  6.63696229e-01],\n",
      "       [ 2.16493309e-02, -1.63997388e+00,  4.22317684e-01,\n",
      "         7.17635632e-01, -7.37143457e-02, -7.77586848e-02,\n",
      "        -5.90787590e-01,  5.18947840e-01],\n",
      "       [-1.44526064e+00,  1.37943304e+00,  1.15308367e-01,\n",
      "         7.00351894e-01, -1.24640894e+00, -1.03088386e-01,\n",
      "        -4.31604117e-01,  7.23589480e-01],\n",
      "       [ 1.66436958e+00, -1.48105776e+00,  5.01984954e-01,\n",
      "        -2.31227085e-01, -8.36672246e-01,  1.27248582e-03,\n",
      "         1.28195858e+00, -7.78791189e-01],\n",
      "       [ 5.98717511e-01,  8.23226511e-01, -1.67839572e-01,\n",
      "        -2.47507647e-01, -5.86768210e-01, -4.38613333e-02,\n",
      "         8.93364668e-01, -1.35778463e+00],\n",
      "       [-7.00699031e-01,  5.05394220e-01, -4.57327187e-01,\n",
      "        -2.99915403e-01, -3.40396404e-01,  1.18129157e-01,\n",
      "        -7.07834244e-01,  7.88478911e-01],\n",
      "       [-3.01125586e-01, -2.89186597e-01,  5.32761142e-02,\n",
      "        -1.46968216e-01,  7.42226720e-01,  7.28925839e-02,\n",
      "        -1.36797726e+00,  1.25765920e+00],\n",
      "       [ 1.58244416e-01, -4.48102742e-01,  3.74704182e-01,\n",
      "        -1.16076395e-01, -1.75265461e-01,  1.51848942e-01,\n",
      "        -1.11047494e+00,  1.13287652e+00],\n",
      "       [ 1.23595059e+00,  6.64310336e-01,  3.32209051e-01,\n",
      "        -1.33920580e-01, -5.73522449e-01, -1.99490171e-02,\n",
      "        -8.52970958e-01,  7.28581846e-01],\n",
      "       [ 3.54116988e+00, -9.24851239e-01,  1.43248940e+00,\n",
      "        -6.88449070e-02,  1.58528626e-01,  2.36342475e-02,\n",
      "        -8.38925898e-01,  8.78322542e-01],\n",
      "       [-5.08307934e-01,  6.64310336e-01, -1.55431584e-01,\n",
      "        -5.15994057e-02, -2.24972665e-02, -4.60304208e-02,\n",
      "         1.10873008e+00, -1.11820018e+00],\n",
      "       [-7.60969341e-01, -9.24851239e-01, -7.88109720e-01,\n",
      "         1.06317274e-01,  1.06895638e+00, -5.48543744e-02,\n",
      "        -6.65697396e-01,  5.68860173e-01],\n",
      "       [ 4.99389887e-01,  1.29997504e+00, -9.34228525e-02,\n",
      "        -2.71704733e-01, -7.69560218e-01, -1.04073137e-02,\n",
      "        -6.65697396e-01,  5.83833456e-01],\n",
      "       [ 3.97062123e-01, -1.00430930e+00, -1.79710820e-01,\n",
      "        -3.68855029e-01, -1.12719679e+00, -7.14947581e-02,\n",
      "        -7.31243253e-01,  4.84008878e-01],\n",
      "       [ 7.28101194e-01,  1.85618150e+00, -1.87405393e-01,\n",
      "        -1.45485580e-01, -3.50109965e-01, -1.23947427e-01,\n",
      "         1.01509237e+00, -1.43265498e+00],\n",
      "       [-2.53962070e-01, -9.24851239e-01,  2.93753326e-01,\n",
      "         6.10951558e-02,  2.36237302e-01, -2.26086788e-02,\n",
      "        -1.12920105e+00,  1.17280781e+00],\n",
      "       [ 9.73498523e-01, -1.63997388e+00,  9.85714316e-01,\n",
      "        -9.06439573e-02, -4.68439102e-01,  6.04375340e-02,\n",
      "         1.12277508e+00, -8.88600528e-01],\n",
      "       [ 3.67426962e-01,  3.46478045e-01, -1.88533440e-01,\n",
      "        -1.48677006e-01, -4.56076354e-01,  3.21438164e-02,\n",
      "         8.98045778e-01, -1.22301722e+00],\n",
      "       [-5.63209176e-01,  9.02684569e-01, -4.78692532e-01,\n",
      "        -6.46882951e-02, -4.17222023e-01, -1.17484443e-01,\n",
      "        -1.35393035e+00,  1.15783453e+00],\n",
      "       [ 1.19389307e+00,  1.08103804e-01,  2.02605665e-01,\n",
      "        -1.97311133e-01,  2.60962784e-01, -3.30488198e-02,\n",
      "         7.95045912e-01, -1.20305526e+00],\n",
      "       [ 1.15994155e+00, -2.03726435e+00,  4.64099944e-01,\n",
      "        -3.24421264e-02, -6.31803930e-01, -1.77623462e-02,\n",
      "        -9.74700451e-01,  9.38215792e-01],\n",
      "       [-4.48458791e-01, -1.00430930e+00,  1.48655951e-01,\n",
      "         1.90948933e-01, -5.68224072e-01, -9.43351835e-02,\n",
      "        -1.03873178e-01, -6.49019957e-01],\n",
      "       [ 3.79112601e-01, -1.00430930e+00,  1.89471450e-02,\n",
      "        -3.88141343e-04, -6.04685508e-02, -9.12571419e-03,\n",
      "        -9.37244654e-01,  9.28234875e-01],\n",
      "       [-9.22619998e-01, -8.45393121e-01, -5.34096777e-01,\n",
      "        -1.55618519e-01,  9.93640646e-02, -3.44829634e-02,\n",
      "        -1.42415905e+00,  1.22771251e+00],\n",
      "       [-4.04190421e-01, -9.24851239e-01, -1.17919095e-01,\n",
      "        -8.94309860e-03, -1.52306080e-01,  4.22835983e-02,\n",
      "        -7.26560354e-01,  1.04303277e+00]], dtype=float32)>, <tf.Tensor: shape=(32, 1), dtype=float32, numpy=\n",
      "array([[1.042  ],\n",
      "       [2.751  ],\n",
      "       [2.21   ],\n",
      "       [0.727  ],\n",
      "       [3.041  ],\n",
      "       [1.382  ],\n",
      "       [5.00001],\n",
      "       [2.023  ],\n",
      "       [3.337  ],\n",
      "       [2.25   ],\n",
      "       [2.411  ],\n",
      "       [2.981  ],\n",
      "       [1.392  ],\n",
      "       [1.192  ],\n",
      "       [1.338  ],\n",
      "       [2.579  ],\n",
      "       [4.601  ],\n",
      "       [0.973  ],\n",
      "       [1.755  ],\n",
      "       [1.813  ],\n",
      "       [4.333  ],\n",
      "       [5.00001],\n",
      "       [1.908  ],\n",
      "       [1.557  ],\n",
      "       [1.772  ],\n",
      "       [2.571  ],\n",
      "       [3.024  ],\n",
      "       [2.743  ],\n",
      "       [2.781  ],\n",
      "       [2.418  ],\n",
      "       [1.531  ],\n",
      "       [1.064  ]], dtype=float32)>)\n"
     ]
    }
   ],
   "source": [
    "for i in my_data.take(1): print(i)"
   ]
  },
  {
   "cell_type": "markdown",
   "id": "54628c53",
   "metadata": {},
   "source": [
    "#### Using the dataset with tf.keras:\n",
    "Now, we actually want to use the data to train models!"
   ]
  },
  {
   "cell_type": "code",
   "execution_count": 158,
   "id": "3a131a21",
   "metadata": {},
   "outputs": [],
   "source": [
    "train_set = csv_reader_dataset(train_filepaths)\n",
    "valid_set = csv_reader_dataset(valid_filepaths)\n",
    "test_set = csv_reader_dataset(test_filepaths)"
   ]
  },
  {
   "cell_type": "code",
   "execution_count": null,
   "id": "be284a69",
   "metadata": {},
   "outputs": [],
   "source": [
    "# Then, pretending we have already made a model and compiled it, we do:\n",
    "model.fit(train_set, epochs=10, validation_data=valid_set)\n",
    "model.evaluate(test_set)\n",
    "new_set = test_set.take(3).map(lambda X, y: X)\n",
    "model.predict(new_set)\n",
    "# So, the difference is that we do not specify X_train, y_train, and so on."
   ]
  },
  {
   "cell_type": "markdown",
   "id": "5fffef4e",
   "metadata": {},
   "source": [
    "# The TFRecord Format:\n",
    "This is TensorFlows preferred data format, as opposed to CSVs. However, TFRecord is only necessary to be dealt with when your dataset is huge. So, I will keep this in mind and read this section if I ever have to deal with a huge dataset."
   ]
  },
  {
   "cell_type": "markdown",
   "id": "61133f17",
   "metadata": {},
   "source": [
    "# Preprocessing the Input Features:\n",
    "All categorical features must be converted to numerical representations in order for neural networks to handle them. Further, we must normalize the data. To normalize the data, we make a custom standardization layer. This is rather simple. Then, we make the layer, adapt it to the data (i.e., we allow the layer to obtain the stds and means of the data from a sufficiently large sample of the data), and then we can call the layer on the data to normalize it. There is also nothing wrong with using the functions from scikit learn. However, scikit won't be as usable if we are dealing with big data."
   ]
  },
  {
   "cell_type": "code",
   "execution_count": 165,
   "id": "b5b03f4b",
   "metadata": {},
   "outputs": [],
   "source": [
    "class Standardization(keras.layers.Layer):\n",
    "    def adapt(self, data_sample):\n",
    "        self.means_ = np.mean(data_sample, axis=0, keepdims=True) # Remove the keepdims argument if your data is in a pandas dataframe\n",
    "        self.stds_ = np.std(data_sample, axis=0, keepdims=True)\n",
    "    def call(self, inputs):\n",
    "        return (inputs - self.means_) / (self.stds_ + keras.backend.epsilon())"
   ]
  },
  {
   "cell_type": "code",
   "execution_count": 168,
   "id": "c7c2f84f",
   "metadata": {},
   "outputs": [],
   "source": [
    "std_layer = Standardization()\n",
    "std_layer.adapt(X_train.values)"
   ]
  },
  {
   "cell_type": "code",
   "execution_count": 171,
   "id": "8f475519",
   "metadata": {},
   "outputs": [],
   "source": [
    "model = keras.Sequential([std_layer]) \n",
    "# And then we make the rest of the model, where the first layer is the standardizing layer."
   ]
  },
  {
   "cell_type": "markdown",
   "id": "b58bd9ac",
   "metadata": {},
   "source": [
    "### Encoding Categorical Features Using One-hot Vectors:\n",
    "So, as we did in chapter 2, we can make one hot vectors for the California Housing Data's categorical attribute that describes geographical location wrt the ocean. Using a one-hot encoding is good in this case because there are few categories. We would not want to do this if there were many categories.\n",
    "\n",
    "For the on-hot encoding, we need to use a look-up table that matches each index to its category."
   ]
  },
  {
   "cell_type": "code",
   "execution_count": 3,
   "id": "e8018266",
   "metadata": {},
   "outputs": [],
   "source": [
    "vocab = [\"<1H OCEAN\", \"INLAND\", \"NEAR OCEAN\", \"NEAR BAY\", \"ISLAND\"]\n",
    "indices = tf.range(len(vocab), dtype = tf.int64)\n",
    "table_init = tf.lookup.KeyValueTensorInitializer(vocab, indices)\n",
    "num_oov_buckets = 2 # oov == out of vocabulary\n",
    "table = tf.lookup.StaticVocabularyTable(table_init, num_oov_buckets)"
   ]
  },
  {
   "cell_type": "markdown",
   "id": "82450453",
   "metadata": {},
   "source": [
    "So, in the above code, we start by making the lookup table. Since we have unchanging categories, and we are loading in these categories directly from Jupyter notebook, we use a KeyValueTensor. If, on the other hand, we were reading the categories in from a text file, then we would use a TextFileInitializer instead.\n",
    "\n",
    "Lastly, we use *out of vocabulary* (oov) buckets. If we look up a category that does not exist in the vocab, the lookup table will compute a hash of this category and use it to assigne the unknown category to one of the oov buckets, starting at index 5 since 0 through 4 are taken already. \"The more unknown categories you expect to find during training, the more oov buckets you should use.\""
   ]
  },
  {
   "cell_type": "code",
   "execution_count": 11,
   "id": "cb4273c1",
   "metadata": {},
   "outputs": [
    {
     "data": {
      "text/plain": [
       "<tf.Tensor: shape=(4, 7), dtype=float32, numpy=\n",
       "array([[0., 1., 0., 0., 0., 0., 0.],\n",
       "       [0., 0., 0., 1., 0., 0., 0.],\n",
       "       [0., 0., 0., 0., 1., 0., 0.],\n",
       "       [0., 0., 0., 0., 0., 1., 0.]], dtype=float32)>"
      ]
     },
     "execution_count": 11,
     "metadata": {},
     "output_type": "execute_result"
    }
   ],
   "source": [
    "# Here is an example of using the lookup table to get a one-hot vector for a particular instance\n",
    "\n",
    "categories = tf.constant([\"INLAND\", \"NEAR BAY\", \"ISLAND\", \"DESERT\"])\n",
    "looked_up_cats = table.lookup(categories)\n",
    "tf.one_hot(looked_up_cats, depth=len(vocab) + num_oov_buckets)\n",
    "# We can see that one of the oov buckets was used, namely for the desert category"
   ]
  },
  {
   "cell_type": "markdown",
   "id": "a1afb017",
   "metadata": {},
   "source": [
    "Geron says that, as a rule of thumb, one-hot encoding is good when you have 1 to 10 categories and embeddings are preferable when you have more than 50 categories. Between 10 and 50, Geron says that you should experiment."
   ]
  },
  {
   "cell_type": "markdown",
   "id": "427e5159",
   "metadata": {},
   "source": [
    "### Encoding Categorical Features Using Embeddings:\n",
    "Embeddings are trainable dense vectors. By *dense*, we mean that every entry of the vector for an embedding is filled. The set of categories determines the configuration of the embedding space, and one of the hyperparameters of the embeddings is how many dimensions the embedding space has. Over training, the coordinates of each embedding adjust such that similar concepts are closer in embedding space. So, the embedding space of a particular set of categories is a d-dimensional space wherein the vectors (i.e., embeddings) in that space are randomly initialized and learned through training. Then, the configuration of the vectors in the embedding space represents categories and their relationships. Hence, embeddings are an example of *representation learning*.\n",
    "\n",
    "So, we make the embedding as a matrix with as many rows as categories plus oov_buckets and as many columns as our dimension hpyerparameter, which is typically between 10 and 300, but is figured out by tuning."
   ]
  },
  {
   "cell_type": "code",
   "execution_count": 13,
   "id": "c876f562",
   "metadata": {},
   "outputs": [],
   "source": [
    "embed_dimensions = 2\n",
    "embed_init = tf.random.uniform([len(vocab) + num_oov_buckets, embed_dimensions])\n",
    "embed_matrix = tf.Variable(embed_init)"
   ]
  },
  {
   "cell_type": "code",
   "execution_count": 16,
   "id": "0cc96f4f",
   "metadata": {},
   "outputs": [
    {
     "data": {
      "text/plain": [
       "<tf.Tensor: shape=(4,), dtype=int64, numpy=array([1, 3, 4, 5], dtype=int64)>"
      ]
     },
     "execution_count": 16,
     "metadata": {},
     "output_type": "execute_result"
    }
   ],
   "source": [
    "# We can use the embedding matrix as follows:\n",
    "\n",
    "categories = tf.constant([\"INLAND\", \"NEAR BAY\", \"ISLAND\", \"DESERT\"])\n",
    "cat_indices = table.lookup(categories)\n",
    "cat_indices"
   ]
  },
  {
   "cell_type": "code",
   "execution_count": 18,
   "id": "825f0254",
   "metadata": {},
   "outputs": [
    {
     "data": {
      "text/plain": [
       "<tf.Tensor: shape=(4, 2), dtype=float32, numpy=\n",
       "array([[0.84741807, 0.48341691],\n",
       "       [0.07322156, 0.25381315],\n",
       "       [0.31623232, 0.41386688],\n",
       "       [0.0137651 , 0.72024703]], dtype=float32)>"
      ]
     },
     "execution_count": 18,
     "metadata": {},
     "output_type": "execute_result"
    }
   ],
   "source": [
    "tf.nn.embedding_lookup(embed_matrix, cat_indices)"
   ]
  },
  {
   "cell_type": "code",
   "execution_count": 20,
   "id": "7d756e69",
   "metadata": {},
   "outputs": [
    {
     "data": {
      "text/plain": [
       "<tf.Variable 'Variable:0' shape=(7, 2) dtype=float32, numpy=\n",
       "array([[0.7247671 , 0.35095346],\n",
       "       [0.84741807, 0.48341691],\n",
       "       [0.00386035, 0.13001454],\n",
       "       [0.07322156, 0.25381315],\n",
       "       [0.31623232, 0.41386688],\n",
       "       [0.0137651 , 0.72024703],\n",
       "       [0.92308736, 0.9601593 ]], dtype=float32)>"
      ]
     },
     "execution_count": 20,
     "metadata": {},
     "output_type": "execute_result"
    }
   ],
   "source": [
    "embed_matrix # So, comparing these outputs with the above outputs, we see that the embedding lookup gave us rows 1, 3, 4, and 5\n",
    "             # That is all that the nn.embedding_lookup functionction does."
   ]
  },
  {
   "cell_type": "markdown",
   "id": "617a1475",
   "metadata": {},
   "source": [
    "#####  Using Keras Layers for Embedding:\n",
    "https://keras.io/api/layers/core_layers/embedding/"
   ]
  },
  {
   "cell_type": "code",
   "execution_count": 21,
   "id": "e8cec97e",
   "metadata": {},
   "outputs": [
    {
     "data": {
      "text/plain": [
       "<tf.Tensor: shape=(4, 2), dtype=float32, numpy=\n",
       "array([[-0.04824915, -0.03465681],\n",
       "       [ 0.01633828,  0.01140983],\n",
       "       [ 0.01061221,  0.03598538],\n",
       "       [-0.02079087,  0.03032868]], dtype=float32)>"
      ]
     },
     "execution_count": 21,
     "metadata": {},
     "output_type": "execute_result"
    }
   ],
   "source": [
    "embedding = keras.layers.Embedding(input_dim=len(vocab) + num_oov_buckets, output_dim=embed_dimensions)\n",
    "embedding(cat_indices)"
   ]
  },
  {
   "cell_type": "code",
   "execution_count": 27,
   "id": "a2962c59",
   "metadata": {},
   "outputs": [
    {
     "data": {
      "text/plain": [
       "<tf.Tensor: shape=(7, 2), dtype=float32, numpy=\n",
       "array([[ 0.01781131, -0.03380179],\n",
       "       [-0.04824915, -0.03465681],\n",
       "       [ 0.01341652,  0.02502985],\n",
       "       [ 0.01633828,  0.01140983],\n",
       "       [ 0.01061221,  0.03598538],\n",
       "       [-0.02079087,  0.03032868],\n",
       "       [ 0.01887001, -0.02547524]], dtype=float32)>"
      ]
     },
     "execution_count": 27,
     "metadata": {},
     "output_type": "execute_result"
    }
   ],
   "source": [
    "embedding(tf.constant([0,1,2,3,4,5,6], dtype=tf.int64))\n",
    "# So, we see that the embedding layer made the embedding matrix, and then\n",
    "# when we called the embedding layer on our cat_indices, we were given the\n",
    "# rows of the matrix that correspond to the cat_indices."
   ]
  },
  {
   "cell_type": "code",
   "execution_count": 28,
   "id": "e8290eef",
   "metadata": {},
   "outputs": [],
   "source": [
    "# Here is a Keras model with an embedding layer:\n",
    "regular_inputs = keras.layers.Input(shape=[8])\n",
    "categories = keras.layers.Input(shape=[], dtype=tf.string)\n",
    "cat_indices = keras.layers.Lambda(lambda cats: table.lookup(cats))(categories)\n",
    "cat_embed = keras.layers.Embedding(input_dim=7, output_dim=2) (cat_indices) # num of rows in the embedding matrix and num of columns in the embedding matrix, respectively\n",
    "encoded_inputs = keras.layers.concatenate([regular_inputs, cat_embed])\n",
    "outputs = keras.layers.Dense(1)(encoded_inputs)\n",
    "model = keras.models.Model(inputs=[regular_inputs, categories], outputs=[outputs])"
   ]
  },
  {
   "cell_type": "code",
   "execution_count": 31,
   "id": "58576345",
   "metadata": {},
   "outputs": [
    {
     "data": {
      "image/png": "[encoded data removed]",
      "text/plain": [
       "<IPython.core.display.Image object>"
      ]
     },
     "execution_count": 31,
     "metadata": {},
     "output_type": "execute_result"
    }
   ],
   "source": [
    "keras.utils.plot_model(model)"
   ]
  },
  {
   "cell_type": "code",
   "execution_count": null,
   "id": "f861339b",
   "metadata": {},
   "outputs": [],
   "source": []
  }
 ],
 "metadata": {
  "kernelspec": {
   "display_name": "Python 3",
   "language": "python",
   "name": "python3"
  },
  "language_info": {
   "codemirror_mode": {
    "name": "ipython",
    "version": 3
   },
   "file_extension": ".py",
   "mimetype": "text/x-python",
   "name": "python",
   "nbconvert_exporter": "python",
   "pygments_lexer": "ipython3",
   "version": "3.8.8"
  }
 },
 "nbformat": 4,
 "nbformat_minor": 5
}
