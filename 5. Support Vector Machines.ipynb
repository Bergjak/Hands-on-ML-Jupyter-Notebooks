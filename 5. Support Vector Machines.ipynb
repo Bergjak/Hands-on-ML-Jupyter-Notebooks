{
 "cells": [
  {
   "cell_type": "code",
   "execution_count": 17,
   "id": "2859f8c2",
   "metadata": {},
   "outputs": [],
   "source": [
    "from sklearn.datasets import make_moons\n",
    "from sklearn.preprocessing import StandardScaler\n",
    "from sklearn.preprocessing import PolynomialFeatures\n",
    "from sklearn.svm import LinearSVC\n",
    "from sklearn.pipeline import Pipeline\n",
    "import matplotlib.pyplot as plt\n",
    "import numpy as np\n",
    "import pandas as pd\n",
    "import matplotlib as mp"
   ]
  },
  {
   "cell_type": "code",
   "execution_count": 37,
   "id": "2527bd00",
   "metadata": {},
   "outputs": [
    {
     "data": {
      "text/plain": [
       "Pipeline(steps=[('poly', PolynomialFeatures(degree=3)),\n",
       "                ('scale', StandardScaler()),\n",
       "                ('svc_clf', LinearSVC(C=10, loss='hinge'))])"
      ]
     },
     "execution_count": 37,
     "metadata": {},
     "output_type": "execute_result"
    }
   ],
   "source": [
    "X, y = make_moons(n_samples=100, noise=0.15)\n",
    "nlin_svm_clf = Pipeline([('poly', PolynomialFeatures(degree=3)), ('scale', StandardScaler()), ('svc_clf', LinearSVC(C=10, loss='hinge'))])\n",
    "nlin_svm_clf.fit(X, y)"
   ]
  },
  {
   "cell_type": "code",
   "execution_count": 38,
   "id": "2e8a51e8",
   "metadata": {},
   "outputs": [
    {
     "data": {
      "text/plain": [
       "(51, 0.51)"
      ]
     },
     "execution_count": 38,
     "metadata": {},
     "output_type": "execute_result"
    }
   ],
   "source": [
    "ones = 0\n",
    "for i in range(len(X)):\n",
    "    ones += nlin_svm_clf.predict(X[i].reshape(1,2))[0]\n",
    "(ones, ones/len(X))"
   ]
  },
  {
   "cell_type": "code",
   "execution_count": 40,
   "id": "90e3a759",
   "metadata": {},
   "outputs": [
    {
     "data": {
      "text/html": [
       "<div>\n",
       "<style scoped>\n",
       "    .dataframe tbody tr th:only-of-type {\n",
       "        vertical-align: middle;\n",
       "    }\n",
       "\n",
       "    .dataframe tbody tr th {\n",
       "        vertical-align: top;\n",
       "    }\n",
       "\n",
       "    .dataframe thead th {\n",
       "        text-align: right;\n",
       "    }\n",
       "</style>\n",
       "<table border=\"1\" class=\"dataframe\">\n",
       "  <thead>\n",
       "    <tr style=\"text-align: right;\">\n",
       "      <th></th>\n",
       "      <th>x</th>\n",
       "      <th>y</th>\n",
       "    </tr>\n",
       "  </thead>\n",
       "  <tbody>\n",
       "    <tr>\n",
       "      <th>0</th>\n",
       "      <td>-0.151038</td>\n",
       "      <td>0.573948</td>\n",
       "    </tr>\n",
       "    <tr>\n",
       "      <th>1</th>\n",
       "      <td>-1.057473</td>\n",
       "      <td>0.871364</td>\n",
       "    </tr>\n",
       "    <tr>\n",
       "      <th>2</th>\n",
       "      <td>0.084479</td>\n",
       "      <td>-0.286948</td>\n",
       "    </tr>\n",
       "    <tr>\n",
       "      <th>3</th>\n",
       "      <td>1.081972</td>\n",
       "      <td>0.632852</td>\n",
       "    </tr>\n",
       "    <tr>\n",
       "      <th>4</th>\n",
       "      <td>0.645304</td>\n",
       "      <td>-0.591540</td>\n",
       "    </tr>\n",
       "    <tr>\n",
       "      <th>...</th>\n",
       "      <td>...</td>\n",
       "      <td>...</td>\n",
       "    </tr>\n",
       "    <tr>\n",
       "      <th>95</th>\n",
       "      <td>0.283504</td>\n",
       "      <td>-0.085099</td>\n",
       "    </tr>\n",
       "    <tr>\n",
       "      <th>96</th>\n",
       "      <td>-0.863817</td>\n",
       "      <td>0.672092</td>\n",
       "    </tr>\n",
       "    <tr>\n",
       "      <th>97</th>\n",
       "      <td>0.657063</td>\n",
       "      <td>0.910620</td>\n",
       "    </tr>\n",
       "    <tr>\n",
       "      <th>98</th>\n",
       "      <td>0.084794</td>\n",
       "      <td>0.172635</td>\n",
       "    </tr>\n",
       "    <tr>\n",
       "      <th>99</th>\n",
       "      <td>-0.591353</td>\n",
       "      <td>0.589072</td>\n",
       "    </tr>\n",
       "  </tbody>\n",
       "</table>\n",
       "<p>100 rows × 2 columns</p>\n",
       "</div>"
      ],
      "text/plain": [
       "           x         y\n",
       "0  -0.151038  0.573948\n",
       "1  -1.057473  0.871364\n",
       "2   0.084479 -0.286948\n",
       "3   1.081972  0.632852\n",
       "4   0.645304 -0.591540\n",
       "..       ...       ...\n",
       "95  0.283504 -0.085099\n",
       "96 -0.863817  0.672092\n",
       "97  0.657063  0.910620\n",
       "98  0.084794  0.172635\n",
       "99 -0.591353  0.589072\n",
       "\n",
       "[100 rows x 2 columns]"
      ]
     },
     "execution_count": 40,
     "metadata": {},
     "output_type": "execute_result"
    }
   ],
   "source": [
    "X = pd.DataFrame(X, columns=['x', 'y'])"
   ]
  },
  {
   "cell_type": "code",
   "execution_count": 41,
   "id": "fa7e18e0",
   "metadata": {},
   "outputs": [
    {
     "data": {
      "text/plain": [
       "(1.2863845806559548, 2.2151246528926163)"
      ]
     },
     "execution_count": 41,
     "metadata": {},
     "output_type": "execute_result"
    }
   ],
   "source": [
    "x_axis_bound = np.max(X['x'])\n",
    "y_axis_bound = np.max(X['y'])\n",
    "(y_axis_bound, x_axis_bound)"
   ]
  },
  {
   "cell_type": "code",
   "execution_count": 49,
   "id": "d8ad812b",
   "metadata": {},
   "outputs": [
    {
     "data": {
      "text/plain": [
       "<matplotlib.collections.PathCollection at 0x2c0439e6040>"
      ]
     },
     "execution_count": 49,
     "metadata": {},
     "output_type": "execute_result"
    },
    {
     "data": {
      "image/png": "[encoded data removed]",
      "text/plain": [
       "<Figure size 432x288 with 1 Axes>"
      ]
     },
     "metadata": {
      "needs_background": "light"
     },
     "output_type": "display_data"
    }
   ],
   "source": [
    "plt.scatter(X['x'], X['y'], s=y*50)\n",
    "plt.scatter(X['x'], X['y'], s=abs(y-1)*50, marker='^')"
   ]
  },
  {
   "cell_type": "code",
   "execution_count": null,
   "id": "81376707",
   "metadata": {},
   "outputs": [],
   "source": []
  }
 ],
 "metadata": {
  "kernelspec": {
   "display_name": "Python 3",
   "language": "python",
   "name": "python3"
  },
  "language_info": {
   "codemirror_mode": {
    "name": "ipython",
    "version": 3
   },
   "file_extension": ".py",
   "mimetype": "text/x-python",
   "name": "python",
   "nbconvert_exporter": "python",
   "pygments_lexer": "ipython3",
   "version": "3.8.8"
  }
 },
 "nbformat": 4,
 "nbformat_minor": 5
}
