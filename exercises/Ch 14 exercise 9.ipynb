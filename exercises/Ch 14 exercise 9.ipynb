{
 "cells": [
  {
   "cell_type": "code",
   "execution_count": 2,
   "id": "1d376b97",
   "metadata": {},
   "outputs": [],
   "source": [
    "import matplotlib.pyplot as plt\n",
    "import pandas as pd\n",
    "import tensorflow as tf\n",
    "import numpy as np\n",
    "from tensorflow import keras"
   ]
  },
  {
   "cell_type": "code",
   "execution_count": 3,
   "id": "8929e373",
   "metadata": {},
   "outputs": [],
   "source": [
    "from sklearn.datasets import fetch_openml\n",
    "mnist = fetch_openml('mnist_784', version=1)"
   ]
  },
  {
   "cell_type": "code",
   "execution_count": 8,
   "id": "18c40df5",
   "metadata": {},
   "outputs": [],
   "source": [
    "X, y = mnist['data'], mnist['target']\n",
    "y = y.astype(np.uint8)\n",
    "X_train, X_test, y_train, y_test = X.iloc[:60000], X.iloc[60000:], y.iloc[:60000], y.iloc[60000:]"
   ]
  },
  {
   "cell_type": "code",
   "execution_count": 50,
   "id": "f554e64f",
   "metadata": {},
   "outputs": [],
   "source": [
    "X_train2 = []\n",
    "for i in range(len(X_train)):\n",
    "    X_train2.append(np.array(X_train.iloc[i]).reshape(28, 28, 1))"
   ]
  },
  {
   "cell_type": "code",
   "execution_count": 51,
   "id": "a3521568",
   "metadata": {},
   "outputs": [],
   "source": [
    "X_train2 = np.array(X_train2)"
   ]
  },
  {
   "cell_type": "code",
   "execution_count": 67,
   "id": "74fb8fbc",
   "metadata": {},
   "outputs": [],
   "source": [
    "X_test2 = []\n",
    "for i in range(len(X_test)):\n",
    "    X_test2.append(np.array(X_test.iloc[i]).reshape(28, 28, 1))\n",
    "X_test2 = np.array(X_test2)"
   ]
  },
  {
   "cell_type": "code",
   "execution_count": 53,
   "id": "f256aeaf",
   "metadata": {},
   "outputs": [
    {
     "data": {
      "image/png": "[encoded data removed]",
      "text/plain": [
       "<Figure size 288x288 with 1 Axes>"
      ]
     },
     "metadata": {
      "needs_background": "light"
     },
     "output_type": "display_data"
    },
    {
     "data": {
      "image/png": "[encoded data removed]",
      "text/plain": [
       "<Figure size 288x288 with 1 Axes>"
      ]
     },
     "metadata": {
      "needs_background": "light"
     },
     "output_type": "display_data"
    }
   ],
   "source": [
    "for i in range(1, 3): plt.matshow(X_train2[i])"
   ]
  },
  {
   "cell_type": "code",
   "execution_count": 63,
   "id": "7e991e75",
   "metadata": {},
   "outputs": [],
   "source": [
    "model = keras.models.Sequential([keras.layers.Conv2D(64, 5, activation='relu', input_shape=[28,28,1], padding=\"same\"),\n",
    "                                 keras.layers.MaxPooling2D(),\n",
    "                                 keras.layers.Conv2D(128, 3, 2, activation='relu', padding=\"same\"),\n",
    "                                 keras.layers.MaxPooling2D(),\n",
    "                                 keras.layers.Conv2D(256, 2, 2, activation='relu', padding=\"same\"),\n",
    "                                 keras.layers.MaxPooling2D(),\n",
    "                                 keras.layers.Flatten(),\n",
    "                                 keras.layers.Dense(128, activation='relu'),\n",
    "                                 keras.layers.Dropout(0.5),\n",
    "                                 keras.layers.Dense(64, activation='relu'),\n",
    "                                 keras.layers.Dropout(0.5),\n",
    "                                 keras.layers.Dense(10, activation=\"softmax\")])"
   ]
  },
  {
   "cell_type": "code",
   "execution_count": 64,
   "id": "2b76b53b",
   "metadata": {},
   "outputs": [],
   "source": [
    "early_stopping_cb = keras.callbacks.EarlyStopping(patience=10, restore_best_weights=True)"
   ]
  },
  {
   "cell_type": "code",
   "execution_count": 65,
   "id": "3cfae788",
   "metadata": {},
   "outputs": [],
   "source": [
    "model.compile(loss=\"sparse_categorical_crossentropy\", optimizer=\"sgd\", metrics=[\"accuracy\"])"
   ]
  },
  {
   "cell_type": "code",
   "execution_count": 66,
   "id": "50f10956",
   "metadata": {},
   "outputs": [
    {
     "name": "stdout",
     "output_type": "stream",
     "text": [
      "Epoch 1/50\n",
      "1538/1538 [==============================] - 33s 21ms/step - loss: 1.9201 - accuracy: 0.4555 - val_loss: 0.1342 - val_accuracy: 0.9653\n",
      "Epoch 2/50\n",
      "1538/1538 [==============================] - 32s 21ms/step - loss: 0.3453 - accuracy: 0.9010 - val_loss: 0.1318 - val_accuracy: 0.9627\n",
      "Epoch 3/50\n",
      "1538/1538 [==============================] - 32s 21ms/step - loss: 0.2214 - accuracy: 0.9388 - val_loss: 0.1057 - val_accuracy: 0.9744\n",
      "Epoch 4/50\n",
      "1538/1538 [==============================] - 33s 21ms/step - loss: 0.1793 - accuracy: 0.9531 - val_loss: 0.0921 - val_accuracy: 0.9776\n",
      "Epoch 5/50\n",
      "1538/1538 [==============================] - 33s 22ms/step - loss: 0.1645 - accuracy: 0.9586 - val_loss: 0.0920 - val_accuracy: 0.9794\n",
      "Epoch 6/50\n",
      "1538/1538 [==============================] - 33s 21ms/step - loss: 0.1297 - accuracy: 0.9671 - val_loss: 0.0765 - val_accuracy: 0.9830\n",
      "Epoch 7/50\n",
      "1538/1538 [==============================] - 33s 21ms/step - loss: 0.1198 - accuracy: 0.9702 - val_loss: 0.0648 - val_accuracy: 0.9845\n",
      "Epoch 8/50\n",
      "1538/1538 [==============================] - 33s 21ms/step - loss: 0.1075 - accuracy: 0.9710 - val_loss: 0.0736 - val_accuracy: 0.9848\n",
      "Epoch 9/50\n",
      "1538/1538 [==============================] - 33s 21ms/step - loss: 0.0967 - accuracy: 0.9750 - val_loss: 0.0688 - val_accuracy: 0.9862\n",
      "Epoch 10/50\n",
      "1538/1538 [==============================] - 33s 21ms/step - loss: 0.0825 - accuracy: 0.9786 - val_loss: 0.0649 - val_accuracy: 0.9863\n",
      "Epoch 11/50\n",
      "1538/1538 [==============================] - 32s 21ms/step - loss: 0.0779 - accuracy: 0.9797 - val_loss: 0.0668 - val_accuracy: 0.9878\n",
      "Epoch 12/50\n",
      "1538/1538 [==============================] - 32s 21ms/step - loss: 0.0679 - accuracy: 0.9817 - val_loss: 0.0655 - val_accuracy: 0.9874\n",
      "Epoch 13/50\n",
      "1538/1538 [==============================] - 32s 21ms/step - loss: 0.0625 - accuracy: 0.9839 - val_loss: 0.0747 - val_accuracy: 0.9857\n",
      "Epoch 14/50\n",
      "1538/1538 [==============================] - 32s 21ms/step - loss: 0.0598 - accuracy: 0.9835 - val_loss: 0.0795 - val_accuracy: 0.9851\n",
      "Epoch 15/50\n",
      "1538/1538 [==============================] - 32s 21ms/step - loss: 0.0554 - accuracy: 0.9852 - val_loss: 0.0886 - val_accuracy: 0.9825\n",
      "Epoch 16/50\n",
      "1538/1538 [==============================] - 32s 21ms/step - loss: 0.0565 - accuracy: 0.9843 - val_loss: 0.0779 - val_accuracy: 0.9848\n",
      "Epoch 17/50\n",
      "1538/1538 [==============================] - 32s 21ms/step - loss: 0.0493 - accuracy: 0.9867 - val_loss: 0.0861 - val_accuracy: 0.9843\n"
     ]
    }
   ],
   "source": [
    "history = model.fit(X_train2, y_train, validation_split=0.18, callbacks=[early_stopping_cb], epochs=50)"
   ]
  },
  {
   "cell_type": "code",
   "execution_count": 68,
   "id": "11eb7a2f",
   "metadata": {},
   "outputs": [],
   "source": [
    "preds = model.predict(X_test2)"
   ]
  },
  {
   "cell_type": "code",
   "execution_count": 81,
   "id": "545d1470",
   "metadata": {},
   "outputs": [],
   "source": [
    "preds2 = []\n",
    "for row in preds: preds2.append(np.argmax(row))"
   ]
  },
  {
   "cell_type": "code",
   "execution_count": 87,
   "id": "1b6df1cb",
   "metadata": {},
   "outputs": [
    {
     "data": {
      "text/plain": [
       "0.9846"
      ]
     },
     "execution_count": 87,
     "metadata": {},
     "output_type": "execute_result"
    }
   ],
   "source": [
    "score = 0\n",
    "for u, v in zip(preds2, y_test): score += int(u==v)\n",
    "score/10000"
   ]
  },
  {
   "cell_type": "code",
   "execution_count": null,
   "id": "e3308dbd",
   "metadata": {},
   "outputs": [],
   "source": []
  }
 ],
 "metadata": {
  "kernelspec": {
   "display_name": "Python 3",
   "language": "python",
   "name": "python3"
  },
  "language_info": {
   "codemirror_mode": {
    "name": "ipython",
    "version": 3
   },
   "file_extension": ".py",
   "mimetype": "text/x-python",
   "name": "python",
   "nbconvert_exporter": "python",
   "pygments_lexer": "ipython3",
   "version": "3.8.8"
  }
 },
 "nbformat": 4,
 "nbformat_minor": 5
}
