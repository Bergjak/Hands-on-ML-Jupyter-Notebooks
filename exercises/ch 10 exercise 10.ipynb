{
 "cells": [
  {
   "cell_type": "code",
   "execution_count": 42,
   "id": "d64f16b7",
   "metadata": {},
   "outputs": [],
   "source": [
    "import numpy as np\n",
    "import matplotlib.pyplot as plt\n",
    "import pandas as pd\n",
    "import tensorflow as tf\n",
    "from tensorflow import keras\n",
    "from sklearn.datasets import fetch_openml\n",
    "mnist = fetch_openml('mnist_784', version=1)"
   ]
  },
  {
   "cell_type": "markdown",
   "id": "cb83ffdd",
   "metadata": {},
   "source": [
    "### Preparing the data:"
   ]
  },
  {
   "cell_type": "code",
   "execution_count": 74,
   "id": "1e8f3c0a",
   "metadata": {},
   "outputs": [],
   "source": [
    "from sklearn.model_selection import train_test_split"
   ]
  },
  {
   "cell_type": "code",
   "execution_count": 157,
   "id": "01cea589",
   "metadata": {},
   "outputs": [],
   "source": [
    "X, y = mnist['data'], mnist['target'].astype(np.uint8)"
   ]
  },
  {
   "cell_type": "code",
   "execution_count": 158,
   "id": "9ac6dfef",
   "metadata": {},
   "outputs": [],
   "source": [
    "X_train, X_test, y_train, y_test = train_test_split(X, y, test_size=0.2)"
   ]
  },
  {
   "cell_type": "code",
   "execution_count": 159,
   "id": "c310c74a",
   "metadata": {},
   "outputs": [],
   "source": [
    "X_train, X_valid, y_train, y_valid = train_test_split(X_train, y_train, test_size=0.25)"
   ]
  },
  {
   "cell_type": "code",
   "execution_count": 160,
   "id": "e81d4760",
   "metadata": {},
   "outputs": [],
   "source": [
    "X_train, X_test, X_valid = X_train/255, X_test/255, X_valid/255"
   ]
  },
  {
   "cell_type": "markdown",
   "id": "f148bd13",
   "metadata": {},
   "source": [
    "### Expanding the dataset:"
   ]
  },
  {
   "cell_type": "code",
   "execution_count": 97,
   "id": "3f74140a",
   "metadata": {},
   "outputs": [
    {
     "data": {
      "text/plain": [
       "((210000, 784), (210000,))"
      ]
     },
     "execution_count": 97,
     "metadata": {},
     "output_type": "execute_result"
    }
   ],
   "source": [
    "side, up, repository = np.zeros((28,1)), np.zeros((28)), []\n",
    "\n",
    "for i in range(len(X_train)):\n",
    "    repository.append(np.concatenate((up, X_train.iloc[i][:-28])))    \n",
    "    repository.append(np.concatenate((X_train.iloc[i][28:], up)))\n",
    "    temp = np.array(X_train.iloc[i]).reshape(28,28)[:, 0:-1]\n",
    "    repository.append(np.c_[side, temp].reshape(784))\n",
    "    temp = np.array(X_train.iloc[i]).reshape(28,28)[:, 1:]\n",
    "    repository.append(np.c_[temp, side].reshape(784))\n",
    "    \n",
    "labels_ext = []\n",
    "for i in range(len(X_train)):\n",
    "    labels_ext.append(y_train.iloc[i])\n",
    "    labels_ext.append(y_train.iloc[i])\n",
    "    labels_ext.append(y_train.iloc[i])\n",
    "    labels_ext.append(y_train.iloc[i])\n",
    "labels_ext = pd.Series(labels_ext)\n",
    "\n",
    "y_train = labels_ext.append(y_train.copy())\n",
    "repository = pd.DataFrame(np.array(repository), columns=X_train.columns)\n",
    "X_train = repository.append(X_train.copy(), ignore_index=True)\n",
    "X_train.shape, y_train.shape"
   ]
  },
  {
   "cell_type": "markdown",
   "id": "2bfb0570",
   "metadata": {},
   "source": [
    "# Making the model:"
   ]
  },
  {
   "cell_type": "code",
   "execution_count": null,
   "id": "8cccd886",
   "metadata": {},
   "outputs": [],
   "source": [
    "model = keras.Sequential()"
   ]
  },
  {
   "cell_type": "code",
   "execution_count": null,
   "id": "830e5c7e",
   "metadata": {},
   "outputs": [],
   "source": [
    "model.add(keras.layers.Dense(300, input_shape=[784]))\n",
    "model.add(keras.layers.Dense(400, activation='relu'))\n",
    "model.add(keras.layers.Dense(200, activation='relu'))\n",
    "model.add(keras.layers.Dense(400, activation='relu'))\n",
    "model.add(keras.layers.Dense(200, activation='relu'))\n",
    "model.add(keras.layers.Dense(200, activation='relu'))\n",
    "model.add(keras.layers.Dense(10, activation='softmax'))"
   ]
  },
  {
   "cell_type": "code",
   "execution_count": null,
   "id": "9a7faee7",
   "metadata": {},
   "outputs": [],
   "source": [
    "keras.utils.plot_model(model, show_shapes=1)"
   ]
  },
  {
   "cell_type": "code",
   "execution_count": null,
   "id": "fa1ad8b6",
   "metadata": {},
   "outputs": [],
   "source": [
    "model.compile(optimizer='sgd', loss='sparse_categorical_crossentropy', metrics=['accuracy'])"
   ]
  },
  {
   "cell_type": "code",
   "execution_count": null,
   "id": "b741d8b6",
   "metadata": {},
   "outputs": [],
   "source": [
    "history = model.fit(X_train, y_train, validation_data=(X_valid, y_valid), epochs = 100, callbacks=[keras.callbacks.EarlyStopping(patience=10), keras.callbacks.ModelCheckpoint('my_keras_model.h5', save_best_only=1)])\n",
    "model = keras.models.load_model('my_keras_model.h5')"
   ]
  },
  {
   "cell_type": "code",
   "execution_count": null,
   "id": "fcb7db9d",
   "metadata": {},
   "outputs": [],
   "source": [
    "history = pd.DataFrame(history.history)"
   ]
  },
  {
   "cell_type": "code",
   "execution_count": null,
   "id": "e8b7e698",
   "metadata": {},
   "outputs": [],
   "source": [
    "history.plot()\n",
    "plt.grid(1)"
   ]
  },
  {
   "cell_type": "code",
   "execution_count": null,
   "id": "6a1e3fa3",
   "metadata": {},
   "outputs": [],
   "source": [
    "model.evaluate(X_test, y_test)[1]"
   ]
  },
  {
   "cell_type": "markdown",
   "id": "bacb81a9",
   "metadata": {},
   "source": [
    "### Model 2:"
   ]
  },
  {
   "cell_type": "code",
   "execution_count": 98,
   "id": "bff9ccbb",
   "metadata": {},
   "outputs": [],
   "source": [
    "def modMaker(units=100, layers=3, learning_rate=0.01):\n",
    "    model2 = keras.Sequential()\n",
    "    model2.add(keras.layers.Dense(784, input_shape=[784]))\n",
    "    for _ in range(layers):\n",
    "        model2.add(keras.layers.Dense(units, activation='relu'))\n",
    "    model2.add(keras.layers.Dense(10, activation='softmax'))\n",
    "    optimizer = keras.optimizers.SGD(lr=learning_rate)\n",
    "    model2.compile(optimizer=optimizer, loss='sparse_categorical_crossentropy', metrics=['accuracy'])\n",
    "    return model2"
   ]
  },
  {
   "cell_type": "markdown",
   "id": "36aefd28",
   "metadata": {},
   "source": [
    "I want to iterate over different learning rates, differing by powers of 10, and then save the best model produced. I could implement the ModelCheckpoint callback and use a different model name for each model, and also record which k corresponds to the best score. Then use the best version of that model."
   ]
  },
  {
   "cell_type": "code",
   "execution_count": 99,
   "id": "4ef3a69f",
   "metadata": {},
   "outputs": [
    {
     "name": "stdout",
     "output_type": "stream",
     "text": [
      "Epoch 1/100\n",
      "6563/6563 [==============================] - 32s 5ms/step - loss: 0.5098 - accuracy: 0.8395 - val_loss: 0.1029 - val_accuracy: 0.9683\n",
      "Epoch 2/100\n",
      "6563/6563 [==============================] - 33s 5ms/step - loss: 0.0817 - accuracy: 0.9736 - val_loss: 0.0670 - val_accuracy: 0.9799\n",
      "Epoch 3/100\n",
      "6563/6563 [==============================] - 35s 5ms/step - loss: 0.0509 - accuracy: 0.9839 - val_loss: 0.0576 - val_accuracy: 0.9808\n",
      "Epoch 4/100\n",
      "6563/6563 [==============================] - 33s 5ms/step - loss: 0.0357 - accuracy: 0.9883 - val_loss: 0.0572 - val_accuracy: 0.9822\n",
      "Epoch 5/100\n",
      "6563/6563 [==============================] - 31s 5ms/step - loss: 0.0271 - accuracy: 0.9912 - val_loss: 0.0700 - val_accuracy: 0.9788\n",
      "Epoch 6/100\n",
      "6563/6563 [==============================] - 33s 5ms/step - loss: 0.0197 - accuracy: 0.9935 - val_loss: 0.0828 - val_accuracy: 0.9783\n",
      "Epoch 7/100\n",
      "6563/6563 [==============================] - 34s 5ms/step - loss: 0.0155 - accuracy: 0.9949 - val_loss: 0.0575 - val_accuracy: 0.9844\n",
      "Epoch 8/100\n",
      "6563/6563 [==============================] - 34s 5ms/step - loss: 0.0117 - accuracy: 0.9962 - val_loss: 0.0644 - val_accuracy: 0.9827\n",
      "Epoch 9/100\n",
      "6563/6563 [==============================] - 36s 5ms/step - loss: 0.0122 - accuracy: 0.9958 - val_loss: 0.0631 - val_accuracy: 0.9851\n",
      "Epoch 10/100\n",
      "6563/6563 [==============================] - 33s 5ms/step - loss: 0.0097 - accuracy: 0.9968 - val_loss: 0.0744 - val_accuracy: 0.9815\n",
      "Epoch 11/100\n",
      "6563/6563 [==============================] - 33s 5ms/step - loss: 0.0075 - accuracy: 0.9974 - val_loss: 0.0698 - val_accuracy: 0.9844\n",
      "Epoch 12/100\n",
      "6563/6563 [==============================] - 31s 5ms/step - loss: 0.0052 - accuracy: 0.9984 - val_loss: 0.0714 - val_accuracy: 0.9837\n",
      "Epoch 13/100\n",
      "6563/6563 [==============================] - 31s 5ms/step - loss: 0.0047 - accuracy: 0.9986 - val_loss: 0.0713 - val_accuracy: 0.9853\n",
      "Epoch 14/100\n",
      "6563/6563 [==============================] - 35s 5ms/step - loss: 0.0037 - accuracy: 0.9988 - val_loss: 0.0691 - val_accuracy: 0.9861\n",
      "438/438 [==============================] - 1s 2ms/step - loss: 0.0626 - accuracy: 0.9811\n",
      "Epoch 1/100\n",
      "6563/6563 [==============================] - 31s 5ms/step - loss: 0.5470 - accuracy: 0.8262 - val_loss: 0.0872 - val_accuracy: 0.9728\n",
      "Epoch 2/100\n",
      "6563/6563 [==============================] - 31s 5ms/step - loss: 0.0825 - accuracy: 0.9740 - val_loss: 0.0653 - val_accuracy: 0.9796\n",
      "Epoch 3/100\n",
      "6563/6563 [==============================] - 32s 5ms/step - loss: 0.0512 - accuracy: 0.9837 - val_loss: 0.0624 - val_accuracy: 0.9816\n",
      "Epoch 4/100\n",
      "6563/6563 [==============================] - 32s 5ms/step - loss: 0.0369 - accuracy: 0.9878 - val_loss: 0.0630 - val_accuracy: 0.9812\n",
      "Epoch 5/100\n",
      " 683/6563 [==>...........................] - ETA: 27s - loss: 0.0279 - accuracy: 0.9915"
     ]
    },
    {
     "ename": "KeyboardInterrupt",
     "evalue": "",
     "output_type": "error",
     "traceback": [
      "\u001b[1;31m---------------------------------------------------------------------------\u001b[0m",
      "\u001b[1;31mKeyboardInterrupt\u001b[0m                         Traceback (most recent call last)",
      "\u001b[1;32m<ipython-input-99-b3b1e411e56b>\u001b[0m in \u001b[0;36m<module>\u001b[1;34m\u001b[0m\n\u001b[0;32m      4\u001b[0m     \u001b[0msave\u001b[0m \u001b[1;33m=\u001b[0m \u001b[0mkeras\u001b[0m\u001b[1;33m.\u001b[0m\u001b[0mcallbacks\u001b[0m\u001b[1;33m.\u001b[0m\u001b[0mModelCheckpoint\u001b[0m\u001b[1;33m(\u001b[0m\u001b[1;34m'model_'\u001b[0m\u001b[1;33m+\u001b[0m\u001b[0mstr\u001b[0m\u001b[1;33m(\u001b[0m\u001b[0mk\u001b[0m\u001b[1;33m)\u001b[0m\u001b[1;33m+\u001b[0m\u001b[1;34m'.h5'\u001b[0m\u001b[1;33m,\u001b[0m \u001b[0msave_best_only\u001b[0m\u001b[1;33m=\u001b[0m\u001b[1;36m1\u001b[0m\u001b[1;33m)\u001b[0m\u001b[1;33m\u001b[0m\u001b[1;33m\u001b[0m\u001b[0m\n\u001b[0;32m      5\u001b[0m     \u001b[0mmodel2\u001b[0m \u001b[1;33m=\u001b[0m \u001b[0mmodMaker\u001b[0m\u001b[1;33m(\u001b[0m\u001b[1;36m200\u001b[0m\u001b[1;33m,\u001b[0m \u001b[0mk\u001b[0m\u001b[1;33m,\u001b[0m \u001b[1;36m2\u001b[0m\u001b[1;33m/\u001b[0m\u001b[1;33m(\u001b[0m\u001b[1;36m10\u001b[0m\u001b[1;33m**\u001b[0m\u001b[1;36m2\u001b[0m\u001b[1;33m)\u001b[0m\u001b[1;33m)\u001b[0m\u001b[1;33m\u001b[0m\u001b[1;33m\u001b[0m\u001b[0m\n\u001b[1;32m----> 6\u001b[1;33m     \u001b[0mmodel2\u001b[0m\u001b[1;33m.\u001b[0m\u001b[0mfit\u001b[0m\u001b[1;33m(\u001b[0m\u001b[0mX_train\u001b[0m\u001b[1;33m,\u001b[0m \u001b[0my_train\u001b[0m\u001b[1;33m,\u001b[0m \u001b[0mvalidation_data\u001b[0m\u001b[1;33m=\u001b[0m\u001b[1;33m(\u001b[0m\u001b[0mX_valid\u001b[0m\u001b[1;33m,\u001b[0m \u001b[0my_valid\u001b[0m\u001b[1;33m)\u001b[0m\u001b[1;33m,\u001b[0m \u001b[0mepochs\u001b[0m\u001b[1;33m=\u001b[0m\u001b[1;36m100\u001b[0m\u001b[1;33m,\u001b[0m \u001b[0mcallbacks\u001b[0m\u001b[1;33m=\u001b[0m\u001b[1;33m[\u001b[0m\u001b[0mearlyStop\u001b[0m\u001b[1;33m,\u001b[0m \u001b[0msave\u001b[0m\u001b[1;33m]\u001b[0m\u001b[1;33m)\u001b[0m\u001b[1;33m\u001b[0m\u001b[1;33m\u001b[0m\u001b[0m\n\u001b[0m\u001b[0;32m      7\u001b[0m     \u001b[0mmodelTest\u001b[0m \u001b[1;33m=\u001b[0m \u001b[0mkeras\u001b[0m\u001b[1;33m.\u001b[0m\u001b[0mmodels\u001b[0m\u001b[1;33m.\u001b[0m\u001b[0mload_model\u001b[0m\u001b[1;33m(\u001b[0m\u001b[1;34m'model_'\u001b[0m\u001b[1;33m+\u001b[0m\u001b[0mstr\u001b[0m\u001b[1;33m(\u001b[0m\u001b[0mk\u001b[0m\u001b[1;33m)\u001b[0m\u001b[1;33m+\u001b[0m\u001b[1;34m'.h5'\u001b[0m\u001b[1;33m)\u001b[0m\u001b[1;33m\u001b[0m\u001b[1;33m\u001b[0m\u001b[0m\n\u001b[0;32m      8\u001b[0m     \u001b[0meval_scores\u001b[0m\u001b[1;33m.\u001b[0m\u001b[0mappend\u001b[0m\u001b[1;33m(\u001b[0m\u001b[1;33m(\u001b[0m\u001b[0mmodelTest\u001b[0m\u001b[1;33m.\u001b[0m\u001b[0mevaluate\u001b[0m\u001b[1;33m(\u001b[0m\u001b[0mX_test\u001b[0m\u001b[1;33m,\u001b[0m \u001b[0my_test\u001b[0m\u001b[1;33m)\u001b[0m\u001b[1;33m[\u001b[0m\u001b[1;36m1\u001b[0m\u001b[1;33m]\u001b[0m\u001b[1;33m,\u001b[0m \u001b[0mk\u001b[0m\u001b[1;33m)\u001b[0m\u001b[1;33m)\u001b[0m\u001b[1;33m\u001b[0m\u001b[1;33m\u001b[0m\u001b[0m\n",
      "\u001b[1;32mc:\\users\\jakob berg\\ml_path\\my_env\\lib\\site-packages\\tensorflow\\python\\keras\\engine\\training.py\u001b[0m in \u001b[0;36mfit\u001b[1;34m(self, x, y, batch_size, epochs, verbose, callbacks, validation_split, validation_data, shuffle, class_weight, sample_weight, initial_epoch, steps_per_epoch, validation_steps, validation_batch_size, validation_freq, max_queue_size, workers, use_multiprocessing)\u001b[0m\n\u001b[0;32m   1098\u001b[0m                 _r=1):\n\u001b[0;32m   1099\u001b[0m               \u001b[0mcallbacks\u001b[0m\u001b[1;33m.\u001b[0m\u001b[0mon_train_batch_begin\u001b[0m\u001b[1;33m(\u001b[0m\u001b[0mstep\u001b[0m\u001b[1;33m)\u001b[0m\u001b[1;33m\u001b[0m\u001b[1;33m\u001b[0m\u001b[0m\n\u001b[1;32m-> 1100\u001b[1;33m               \u001b[0mtmp_logs\u001b[0m \u001b[1;33m=\u001b[0m \u001b[0mself\u001b[0m\u001b[1;33m.\u001b[0m\u001b[0mtrain_function\u001b[0m\u001b[1;33m(\u001b[0m\u001b[0miterator\u001b[0m\u001b[1;33m)\u001b[0m\u001b[1;33m\u001b[0m\u001b[1;33m\u001b[0m\u001b[0m\n\u001b[0m\u001b[0;32m   1101\u001b[0m               \u001b[1;32mif\u001b[0m \u001b[0mdata_handler\u001b[0m\u001b[1;33m.\u001b[0m\u001b[0mshould_sync\u001b[0m\u001b[1;33m:\u001b[0m\u001b[1;33m\u001b[0m\u001b[1;33m\u001b[0m\u001b[0m\n\u001b[0;32m   1102\u001b[0m                 \u001b[0mcontext\u001b[0m\u001b[1;33m.\u001b[0m\u001b[0masync_wait\u001b[0m\u001b[1;33m(\u001b[0m\u001b[1;33m)\u001b[0m\u001b[1;33m\u001b[0m\u001b[1;33m\u001b[0m\u001b[0m\n",
      "\u001b[1;32mc:\\users\\jakob berg\\ml_path\\my_env\\lib\\site-packages\\tensorflow\\python\\eager\\def_function.py\u001b[0m in \u001b[0;36m__call__\u001b[1;34m(self, *args, **kwds)\u001b[0m\n\u001b[0;32m    826\u001b[0m     \u001b[0mtracing_count\u001b[0m \u001b[1;33m=\u001b[0m \u001b[0mself\u001b[0m\u001b[1;33m.\u001b[0m\u001b[0mexperimental_get_tracing_count\u001b[0m\u001b[1;33m(\u001b[0m\u001b[1;33m)\u001b[0m\u001b[1;33m\u001b[0m\u001b[1;33m\u001b[0m\u001b[0m\n\u001b[0;32m    827\u001b[0m     \u001b[1;32mwith\u001b[0m \u001b[0mtrace\u001b[0m\u001b[1;33m.\u001b[0m\u001b[0mTrace\u001b[0m\u001b[1;33m(\u001b[0m\u001b[0mself\u001b[0m\u001b[1;33m.\u001b[0m\u001b[0m_name\u001b[0m\u001b[1;33m)\u001b[0m \u001b[1;32mas\u001b[0m \u001b[0mtm\u001b[0m\u001b[1;33m:\u001b[0m\u001b[1;33m\u001b[0m\u001b[1;33m\u001b[0m\u001b[0m\n\u001b[1;32m--> 828\u001b[1;33m       \u001b[0mresult\u001b[0m \u001b[1;33m=\u001b[0m \u001b[0mself\u001b[0m\u001b[1;33m.\u001b[0m\u001b[0m_call\u001b[0m\u001b[1;33m(\u001b[0m\u001b[1;33m*\u001b[0m\u001b[0margs\u001b[0m\u001b[1;33m,\u001b[0m \u001b[1;33m**\u001b[0m\u001b[0mkwds\u001b[0m\u001b[1;33m)\u001b[0m\u001b[1;33m\u001b[0m\u001b[1;33m\u001b[0m\u001b[0m\n\u001b[0m\u001b[0;32m    829\u001b[0m       \u001b[0mcompiler\u001b[0m \u001b[1;33m=\u001b[0m \u001b[1;34m\"xla\"\u001b[0m \u001b[1;32mif\u001b[0m \u001b[0mself\u001b[0m\u001b[1;33m.\u001b[0m\u001b[0m_experimental_compile\u001b[0m \u001b[1;32melse\u001b[0m \u001b[1;34m\"nonXla\"\u001b[0m\u001b[1;33m\u001b[0m\u001b[1;33m\u001b[0m\u001b[0m\n\u001b[0;32m    830\u001b[0m       \u001b[0mnew_tracing_count\u001b[0m \u001b[1;33m=\u001b[0m \u001b[0mself\u001b[0m\u001b[1;33m.\u001b[0m\u001b[0mexperimental_get_tracing_count\u001b[0m\u001b[1;33m(\u001b[0m\u001b[1;33m)\u001b[0m\u001b[1;33m\u001b[0m\u001b[1;33m\u001b[0m\u001b[0m\n",
      "\u001b[1;32mc:\\users\\jakob berg\\ml_path\\my_env\\lib\\site-packages\\tensorflow\\python\\eager\\def_function.py\u001b[0m in \u001b[0;36m_call\u001b[1;34m(self, *args, **kwds)\u001b[0m\n\u001b[0;32m    853\u001b[0m       \u001b[1;31m# In this case we have created variables on the first call, so we run the\u001b[0m\u001b[1;33m\u001b[0m\u001b[1;33m\u001b[0m\u001b[1;33m\u001b[0m\u001b[0m\n\u001b[0;32m    854\u001b[0m       \u001b[1;31m# defunned version which is guaranteed to never create variables.\u001b[0m\u001b[1;33m\u001b[0m\u001b[1;33m\u001b[0m\u001b[1;33m\u001b[0m\u001b[0m\n\u001b[1;32m--> 855\u001b[1;33m       \u001b[1;32mreturn\u001b[0m \u001b[0mself\u001b[0m\u001b[1;33m.\u001b[0m\u001b[0m_stateless_fn\u001b[0m\u001b[1;33m(\u001b[0m\u001b[1;33m*\u001b[0m\u001b[0margs\u001b[0m\u001b[1;33m,\u001b[0m \u001b[1;33m**\u001b[0m\u001b[0mkwds\u001b[0m\u001b[1;33m)\u001b[0m  \u001b[1;31m# pylint: disable=not-callable\u001b[0m\u001b[1;33m\u001b[0m\u001b[1;33m\u001b[0m\u001b[0m\n\u001b[0m\u001b[0;32m    856\u001b[0m     \u001b[1;32melif\u001b[0m \u001b[0mself\u001b[0m\u001b[1;33m.\u001b[0m\u001b[0m_stateful_fn\u001b[0m \u001b[1;32mis\u001b[0m \u001b[1;32mnot\u001b[0m \u001b[1;32mNone\u001b[0m\u001b[1;33m:\u001b[0m\u001b[1;33m\u001b[0m\u001b[1;33m\u001b[0m\u001b[0m\n\u001b[0;32m    857\u001b[0m       \u001b[1;31m# Release the lock early so that multiple threads can perform the call\u001b[0m\u001b[1;33m\u001b[0m\u001b[1;33m\u001b[0m\u001b[1;33m\u001b[0m\u001b[0m\n",
      "\u001b[1;32mc:\\users\\jakob berg\\ml_path\\my_env\\lib\\site-packages\\tensorflow\\python\\eager\\function.py\u001b[0m in \u001b[0;36m__call__\u001b[1;34m(self, *args, **kwargs)\u001b[0m\n\u001b[0;32m   2940\u001b[0m       (graph_function,\n\u001b[0;32m   2941\u001b[0m        filtered_flat_args) = self._maybe_define_function(args, kwargs)\n\u001b[1;32m-> 2942\u001b[1;33m     return graph_function._call_flat(\n\u001b[0m\u001b[0;32m   2943\u001b[0m         filtered_flat_args, captured_inputs=graph_function.captured_inputs)  # pylint: disable=protected-access\n\u001b[0;32m   2944\u001b[0m \u001b[1;33m\u001b[0m\u001b[0m\n",
      "\u001b[1;32mc:\\users\\jakob berg\\ml_path\\my_env\\lib\\site-packages\\tensorflow\\python\\eager\\function.py\u001b[0m in \u001b[0;36m_call_flat\u001b[1;34m(self, args, captured_inputs, cancellation_manager)\u001b[0m\n\u001b[0;32m   1916\u001b[0m         and executing_eagerly):\n\u001b[0;32m   1917\u001b[0m       \u001b[1;31m# No tape is watching; skip to running the function.\u001b[0m\u001b[1;33m\u001b[0m\u001b[1;33m\u001b[0m\u001b[1;33m\u001b[0m\u001b[0m\n\u001b[1;32m-> 1918\u001b[1;33m       return self._build_call_outputs(self._inference_function.call(\n\u001b[0m\u001b[0;32m   1919\u001b[0m           ctx, args, cancellation_manager=cancellation_manager))\n\u001b[0;32m   1920\u001b[0m     forward_backward = self._select_forward_and_backward_functions(\n",
      "\u001b[1;32mc:\\users\\jakob berg\\ml_path\\my_env\\lib\\site-packages\\tensorflow\\python\\eager\\function.py\u001b[0m in \u001b[0;36mcall\u001b[1;34m(self, ctx, args, cancellation_manager)\u001b[0m\n\u001b[0;32m    553\u001b[0m       \u001b[1;32mwith\u001b[0m \u001b[0m_InterpolateFunctionError\u001b[0m\u001b[1;33m(\u001b[0m\u001b[0mself\u001b[0m\u001b[1;33m)\u001b[0m\u001b[1;33m:\u001b[0m\u001b[1;33m\u001b[0m\u001b[1;33m\u001b[0m\u001b[0m\n\u001b[0;32m    554\u001b[0m         \u001b[1;32mif\u001b[0m \u001b[0mcancellation_manager\u001b[0m \u001b[1;32mis\u001b[0m \u001b[1;32mNone\u001b[0m\u001b[1;33m:\u001b[0m\u001b[1;33m\u001b[0m\u001b[1;33m\u001b[0m\u001b[0m\n\u001b[1;32m--> 555\u001b[1;33m           outputs = execute.execute(\n\u001b[0m\u001b[0;32m    556\u001b[0m               \u001b[0mstr\u001b[0m\u001b[1;33m(\u001b[0m\u001b[0mself\u001b[0m\u001b[1;33m.\u001b[0m\u001b[0msignature\u001b[0m\u001b[1;33m.\u001b[0m\u001b[0mname\u001b[0m\u001b[1;33m)\u001b[0m\u001b[1;33m,\u001b[0m\u001b[1;33m\u001b[0m\u001b[1;33m\u001b[0m\u001b[0m\n\u001b[0;32m    557\u001b[0m               \u001b[0mnum_outputs\u001b[0m\u001b[1;33m=\u001b[0m\u001b[0mself\u001b[0m\u001b[1;33m.\u001b[0m\u001b[0m_num_outputs\u001b[0m\u001b[1;33m,\u001b[0m\u001b[1;33m\u001b[0m\u001b[1;33m\u001b[0m\u001b[0m\n",
      "\u001b[1;32mc:\\users\\jakob berg\\ml_path\\my_env\\lib\\site-packages\\tensorflow\\python\\eager\\execute.py\u001b[0m in \u001b[0;36mquick_execute\u001b[1;34m(op_name, num_outputs, inputs, attrs, ctx, name)\u001b[0m\n\u001b[0;32m     57\u001b[0m   \u001b[1;32mtry\u001b[0m\u001b[1;33m:\u001b[0m\u001b[1;33m\u001b[0m\u001b[1;33m\u001b[0m\u001b[0m\n\u001b[0;32m     58\u001b[0m     \u001b[0mctx\u001b[0m\u001b[1;33m.\u001b[0m\u001b[0mensure_initialized\u001b[0m\u001b[1;33m(\u001b[0m\u001b[1;33m)\u001b[0m\u001b[1;33m\u001b[0m\u001b[1;33m\u001b[0m\u001b[0m\n\u001b[1;32m---> 59\u001b[1;33m     tensors = pywrap_tfe.TFE_Py_Execute(ctx._handle, device_name, op_name,\n\u001b[0m\u001b[0;32m     60\u001b[0m                                         inputs, attrs, num_outputs)\n\u001b[0;32m     61\u001b[0m   \u001b[1;32mexcept\u001b[0m \u001b[0mcore\u001b[0m\u001b[1;33m.\u001b[0m\u001b[0m_NotOkStatusException\u001b[0m \u001b[1;32mas\u001b[0m \u001b[0me\u001b[0m\u001b[1;33m:\u001b[0m\u001b[1;33m\u001b[0m\u001b[1;33m\u001b[0m\u001b[0m\n",
      "\u001b[1;31mKeyboardInterrupt\u001b[0m: "
     ]
    }
   ],
   "source": [
    "eval_scores = []\n",
    "for k in range(5, 9):\n",
    "    earlyStop = keras.callbacks.EarlyStopping(patience=10)\n",
    "    save = keras.callbacks.ModelCheckpoint('model_'+str(k)+'.h5', save_best_only=1)\n",
    "    model2 = modMaker(200, k, 2/(10**2))\n",
    "    model2.fit(X_train, y_train, validation_data=(X_valid, y_valid), epochs=100, callbacks=[earlyStop, save])\n",
    "    modelTest = keras.models.load_model('model_'+str(k)+'.h5')\n",
    "    eval_scores.append((modelTest.evaluate(X_test, y_test)[1], k))"
   ]
  },
  {
   "cell_type": "markdown",
   "id": "da771c3c",
   "metadata": {},
   "source": [
    "The scores below were obtained by extending the training set"
   ]
  },
  {
   "cell_type": "code",
   "execution_count": 100,
   "id": "c426b11c",
   "metadata": {},
   "outputs": [
    {
     "data": {
      "text/plain": [
       "[(0.981071412563324, 5)]"
      ]
     },
     "execution_count": 100,
     "metadata": {},
     "output_type": "execute_result"
    }
   ],
   "source": [
    "eval_scores"
   ]
  },
  {
   "cell_type": "code",
   "execution_count": 101,
   "id": "73cb42f3",
   "metadata": {},
   "outputs": [
    {
     "name": "stdout",
     "output_type": "stream",
     "text": [
      "438/438 [==============================] - 1s 2ms/step - loss: 0.0676 - accuracy: 0.9811\n"
     ]
    },
    {
     "data": {
      "text/plain": [
       "[0.0676131471991539, 0.9811428785324097]"
      ]
     },
     "execution_count": 101,
     "metadata": {},
     "output_type": "execute_result"
    }
   ],
   "source": [
    "model2.evaluate(X_test, y_test)"
   ]
  },
  {
   "cell_type": "markdown",
   "id": "1b16acc1",
   "metadata": {},
   "source": [
    "# Making a custom callback to plot learning rate against loss"
   ]
  },
  {
   "cell_type": "code",
   "execution_count": 161,
   "id": "b01d0982",
   "metadata": {},
   "outputs": [],
   "source": [
    "class ExponentialLearningRate(keras.callbacks.Callback):\n",
    "    def __init__(self, factor):\n",
    "        self.factor = factor\n",
    "        self.rates = []\n",
    "        self.losses = []    \n",
    "    def on_batch_end(self, batch, logs):\n",
    "        self.rates.append(keras.backend.get_value(self.model.optimizer.lr))\n",
    "        self.losses.append(logs['loss'])\n",
    "        keras.backend.set_value(self.model.optimizer.lr, self.model.optimizer.lr * self.factor)"
   ]
  },
  {
   "cell_type": "code",
   "execution_count": 197,
   "id": "c83b07fa",
   "metadata": {},
   "outputs": [],
   "source": [
    "model3 = keras.models.Sequential(\n",
    "    [keras.layers.Dense(784, input_shape=[784]),\n",
    "     keras.layers.Dense(300, activation='relu'),\n",
    "     keras.layers.Dense(100, activation='relu'),\n",
    "     keras.layers.Dense(10, activation='softmax')])"
   ]
  },
  {
   "cell_type": "code",
   "execution_count": 198,
   "id": "f3056af0",
   "metadata": {},
   "outputs": [],
   "source": [
    "model3.compile(optimizer=keras.optimizers.SGD(lr=3e-1), loss='sparse_categorical_crossentropy', metrics=['accuracy'])"
   ]
  },
  {
   "cell_type": "code",
   "execution_count": 164,
   "id": "801b9e6b",
   "metadata": {},
   "outputs": [],
   "source": [
    "exp_lr = ExponentialLearningRate(factor=1.0005)"
   ]
  },
  {
   "cell_type": "code",
   "execution_count": 165,
   "id": "227666e3",
   "metadata": {},
   "outputs": [
    {
     "name": "stdout",
     "output_type": "stream",
     "text": [
      "1313/1313 [==============================] - 8s 6ms/step - loss: 223505066638.7933 - accuracy: 0.8049 - val_loss: 2.3044 - val_accuracy: 0.1154\n"
     ]
    },
    {
     "data": {
      "text/plain": [
       "<tensorflow.python.keras.callbacks.History at 0x1847a03a1c0>"
      ]
     },
     "execution_count": 165,
     "metadata": {},
     "output_type": "execute_result"
    }
   ],
   "source": [
    "model3.fit(X_train, y_train, epochs=1, validation_data=(X_valid, y_valid), callbacks=[exp_lr])"
   ]
  },
  {
   "cell_type": "code",
   "execution_count": 187,
   "id": "d4659fe7",
   "metadata": {},
   "outputs": [
    {
     "data": {
      "text/plain": [
       "(0.30000001192092896, 0.5779981017112732, 0.0, 2.3113279342651367)"
      ]
     },
     "execution_count": 187,
     "metadata": {},
     "output_type": "execute_result"
    },
    {
     "data": {
      "image/png": "[encoded data removed]",
      "text/plain": [
       "<Figure size 432x288 with 1 Axes>"
      ]
     },
     "metadata": {
      "needs_background": "light"
     },
     "output_type": "display_data"
    }
   ],
   "source": [
    "plt.plot(exp_lr.rates, exp_lr.losses)\n",
    "plt.gca().set_xscale('log')\n",
    "plt.grid()\n",
    "plt.hlines(min(exp_lr.losses), min(exp_lr.rates), max(exp_lr.rates))\n",
    "plt.axis([min(exp_lr.rates), max(exp_lr.rates), 0, exp_lr.losses[0]])"
   ]
  },
  {
   "cell_type": "code",
   "execution_count": null,
   "id": "52414d7c",
   "metadata": {},
   "outputs": [
    {
     "name": "stdout",
     "output_type": "stream",
     "text": [
      "Epoch 1/100\n",
      "1313/1313 [==============================] - 7s 5ms/step - loss: 0.5187 - accuracy: 0.8356 - val_loss: 0.2242 - val_accuracy: 0.9332\n",
      "Epoch 2/100\n",
      "1313/1313 [==============================] - 6s 5ms/step - loss: 0.1447 - accuracy: 0.9559 - val_loss: 0.2380 - val_accuracy: 0.9418\n",
      "Epoch 3/100\n",
      "1313/1313 [==============================] - 7s 5ms/step - loss: 0.1152 - accuracy: 0.9643 - val_loss: 0.1243 - val_accuracy: 0.9660\n",
      "Epoch 4/100\n",
      "1313/1313 [==============================] - 7s 5ms/step - loss: 0.0909 - accuracy: 0.9721 - val_loss: 0.1051 - val_accuracy: 0.9710\n",
      "Epoch 5/100\n",
      "1313/1313 [==============================] - 7s 5ms/step - loss: 0.0836 - accuracy: 0.9748 - val_loss: 0.1225 - val_accuracy: 0.9666\n",
      "Epoch 6/100\n",
      "1313/1313 [==============================] - 7s 5ms/step - loss: 0.0721 - accuracy: 0.9764 - val_loss: 0.1818 - val_accuracy: 0.9484\n",
      "Epoch 7/100\n",
      "1313/1313 [==============================] - 7s 5ms/step - loss: 0.0836 - accuracy: 0.9743 - val_loss: 0.1181 - val_accuracy: 0.9699\n",
      "Epoch 8/100\n",
      "1313/1313 [==============================] - 7s 6ms/step - loss: 0.0753 - accuracy: 0.9781 - val_loss: 0.1215 - val_accuracy: 0.9696\n",
      "Epoch 9/100\n",
      "1313/1313 [==============================] - 7s 6ms/step - loss: 0.0756 - accuracy: 0.9779 - val_loss: 0.1283 - val_accuracy: 0.9695\n",
      "Epoch 10/100\n",
      "1313/1313 [==============================] - 7s 5ms/step - loss: 0.0795 - accuracy: 0.9785 - val_loss: 0.1412 - val_accuracy: 0.9678\n",
      "Epoch 11/100\n",
      "1069/1313 [=======================>......] - ETA: 1s - loss: 0.0580 - accuracy: 0.9839"
     ]
    }
   ],
   "source": [
    "model3.fit(X_train, y_train, epochs=100, validation_data=(X_valid, y_valid), callbacks=[keras.callbacks.EarlyStopping(patience=10)])"
   ]
  },
  {
   "cell_type": "code",
   "execution_count": null,
   "id": "edf7d0be",
   "metadata": {},
   "outputs": [],
   "source": []
  }
 ],
 "metadata": {
  "kernelspec": {
   "display_name": "Python 3",
   "language": "python",
   "name": "python3"
  },
  "language_info": {
   "codemirror_mode": {
    "name": "ipython",
    "version": 3
   },
   "file_extension": ".py",
   "mimetype": "text/x-python",
   "name": "python",
   "nbconvert_exporter": "python",
   "pygments_lexer": "ipython3",
   "version": "3.8.8"
  }
 },
 "nbformat": 4,
 "nbformat_minor": 5
}
