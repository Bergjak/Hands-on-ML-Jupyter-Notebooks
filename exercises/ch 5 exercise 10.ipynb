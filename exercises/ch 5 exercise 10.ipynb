{
 "cells": [
  {
   "cell_type": "code",
   "execution_count": 142,
   "id": "d7584bca",
   "metadata": {},
   "outputs": [],
   "source": [
    "import pandas as pd\n",
    "import matplotlib.pyplot as plt\n",
    "import numpy as np\n",
    "from sklearn.impute import SimpleImputer\n",
    "from sklearn.preprocessing import StandardScaler\n",
    "from sklearn.svm import SVR\n",
    "from sklearn.pipeline import Pipeline\n",
    "from sklearn.compose import ColumnTransformer\n",
    "from sklearn.preprocessing import OneHotEncoder\n",
    "from sklearn.model_selection import train_test_split\n",
    "from sklearn.base import BaseEstimator, TransformerMixin\n",
    "from sklearn.model_selection import GridSearchCV\n",
    "from sklearn.metrics import mean_squared_error\n",
    "housing = pd.read_csv(\"datasets/housing/housing.csv\")"
   ]
  },
  {
   "cell_type": "code",
   "execution_count": 127,
   "id": "e95a0271",
   "metadata": {
    "scrolled": true
   },
   "outputs": [],
   "source": [
    "X_train, X_test, y_train, y_test = train_test_split(housing.drop('median_house_value', axis=1), housing['median_house_value'], test_size=0.2)"
   ]
  },
  {
   "cell_type": "code",
   "execution_count": 128,
   "id": "2293455f",
   "metadata": {},
   "outputs": [],
   "source": [
    "X_train_num = X_train.drop('ocean_proximity', axis=1)\n",
    "X_train_cat = X_train['ocean_proximity']\n",
    "\n",
    "num_pipe = Pipeline([('scaler', StandardScaler()), ('imputer', SimpleImputer(strategy='median'))])\n",
    "full_pipe = ColumnTransformer([('nums', num_pipe, X_train_num.columns), ('cat', OneHotEncoder(), ['ocean_proximity'])])"
   ]
  },
  {
   "cell_type": "code",
   "execution_count": 129,
   "id": "3ce98906",
   "metadata": {},
   "outputs": [
    {
     "data": {
      "text/plain": [
       "array([ 1.02141839, -0.81423944, -2.11086422,  7.02447648,  6.36116792,\n",
       "        5.136547  ,  5.12700206,  0.69183263,  0.        ,  1.        ,\n",
       "        0.        ,  0.        ,  0.        ])"
      ]
     },
     "execution_count": 129,
     "metadata": {},
     "output_type": "execute_result"
    }
   ],
   "source": [
    "X_train_piped = full_pipe.fit_transform(X_train)\n",
    "X_train_piped[0]"
   ]
  },
  {
   "cell_type": "code",
   "execution_count": 130,
   "id": "7a91c82f",
   "metadata": {},
   "outputs": [],
   "source": [
    "X_train_piped = pd.DataFrame(X_train_piped, columns=np.concatenate((np.array(X_train.columns), np.array(['8', '9', '10', '11']))))\n",
    "hotty = OneHotEncoder()\n",
    "X_t_c = pd.DataFrame(hotty.fit_transform(np.array(X_train_cat).reshape(-1, 1)))\n",
    "X_train_prepared = pd.DataFrame(np.c_[X_train_piped.drop(['ocean_proximity', '8', '9', '10', '11'], axis=1), X_t_c], columns=X_train.columns)"
   ]
  },
  {
   "cell_type": "code",
   "execution_count": 140,
   "id": "ea204f7b",
   "metadata": {},
   "outputs": [],
   "source": [
    "svr_reg = SVR()\n",
    "X_train_fuck = X_train_prepared.drop(\"ocean_proximity\", axis=1)"
   ]
  },
  {
   "cell_type": "code",
   "execution_count": 141,
   "id": "75100efe",
   "metadata": {},
   "outputs": [
    {
     "data": {
      "text/plain": [
       "SVR()"
      ]
     },
     "execution_count": 141,
     "metadata": {},
     "output_type": "execute_result"
    }
   ],
   "source": [
    "svr_reg.fit(X_train_fuck, y_train)"
   ]
  },
  {
   "cell_type": "code",
   "execution_count": 143,
   "id": "83981f1b",
   "metadata": {},
   "outputs": [
    {
     "data": {
      "text/plain": [
       "116946.61048507858"
      ]
     },
     "execution_count": 143,
     "metadata": {},
     "output_type": "execute_result"
    }
   ],
   "source": [
    "preds = svr_reg.predict(X_train_fuck)\n",
    "score = np.sqrt(mean_squared_error(preds, y_train))\n",
    "score"
   ]
  },
  {
   "cell_type": "code",
   "execution_count": null,
   "id": "b99e4236",
   "metadata": {},
   "outputs": [],
   "source": []
  }
 ],
 "metadata": {
  "kernelspec": {
   "display_name": "Python 3",
   "language": "python",
   "name": "python3"
  },
  "language_info": {
   "codemirror_mode": {
    "name": "ipython",
    "version": 3
   },
   "file_extension": ".py",
   "mimetype": "text/x-python",
   "name": "python",
   "nbconvert_exporter": "python",
   "pygments_lexer": "ipython3",
   "version": "3.8.8"
  }
 },
 "nbformat": 4,
 "nbformat_minor": 5
}
